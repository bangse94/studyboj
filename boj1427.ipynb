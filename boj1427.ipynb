{
  "nbformat": 4,
  "nbformat_minor": 0,
  "metadata": {
    "colab": {
      "name": "boj1427.ipynb",
      "provenance": [],
      "authorship_tag": "ABX9TyN04ZAWyVkIXa78hzeU5yuy",
      "include_colab_link": true
    },
    "kernelspec": {
      "name": "python3",
      "display_name": "Python 3"
    }
  },
  "cells": [
    {
      "cell_type": "markdown",
      "metadata": {
        "id": "view-in-github",
        "colab_type": "text"
      },
      "source": [
        "<a href=\"https://colab.research.google.com/github/bangse94/studyboj/blob/main/boj1427.ipynb\" target=\"_parent\"><img src=\"https://colab.research.google.com/assets/colab-badge.svg\" alt=\"Open In Colab\"/></a>"
      ]
    },
    {
      "cell_type": "markdown",
      "metadata": {
        "id": "tTJnXvKhCnzR"
      },
      "source": [
        "1427번 : 소트인사이트"
      ]
    },
    {
      "cell_type": "code",
      "metadata": {
        "id": "yHdScHJQ_-5u",
        "outputId": "4d801017-c25c-46e9-dc38-1c76f08c1072",
        "colab": {
          "base_uri": "https://localhost:8080/",
          "height": 53
        }
      },
      "source": [
        "N = int(input())\n",
        "num = []\n",
        "while N > 0:\n",
        "    a = N % 10\n",
        "    num.append(str(a))\n",
        "    if N >= 10:\n",
        "        N = N // 10\n",
        "    else:\n",
        "        break\n",
        "\n",
        "num = sorted(num, reverse= True)\n",
        "M = ''.join(num)\n",
        "print(M)"
      ],
      "execution_count": 28,
      "outputs": [
        {
          "output_type": "stream",
          "text": [
            "2143\n",
            "4321\n"
          ],
          "name": "stdout"
        }
      ]
    }
  ]
}