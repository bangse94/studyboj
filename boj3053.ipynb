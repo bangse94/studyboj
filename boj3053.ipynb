{
  "nbformat": 4,
  "nbformat_minor": 0,
  "metadata": {
    "colab": {
      "name": "boj3053.ipynb",
      "provenance": [],
      "collapsed_sections": [],
      "authorship_tag": "ABX9TyP93N/4GWTx9wlviY3gchdp",
      "include_colab_link": true
    },
    "kernelspec": {
      "name": "python3",
      "display_name": "Python 3"
    }
  },
  "cells": [
    {
      "cell_type": "markdown",
      "metadata": {
        "id": "view-in-github",
        "colab_type": "text"
      },
      "source": [
        "<a href=\"https://colab.research.google.com/github/bangse94/studyboj/blob/main/boj3053.ipynb\" target=\"_parent\"><img src=\"https://colab.research.google.com/assets/colab-badge.svg\" alt=\"Open In Colab\"/></a>"
      ]
    },
    {
      "cell_type": "markdown",
      "metadata": {
        "id": "hwFtZuX1Io0g"
      },
      "source": [
        "3053번 : 택시 기하학"
      ]
    },
    {
      "cell_type": "code",
      "metadata": {
        "id": "Yj6FOOP59BxP",
        "outputId": "aa163b3b-ad02-4624-c1d0-e6fd6e8446ad",
        "colab": {
          "base_uri": "https://localhost:8080/"
        }
      },
      "source": [
        "from math import pi\n",
        "R = int(input())\n",
        "\n",
        "print(\"%.6f\" % ((R**2)*pi))\n",
        "print(\"%.6f\" % ((R**2)*2))\n"
      ],
      "execution_count": 7,
      "outputs": [
        {
          "output_type": "stream",
          "text": [
            "1\n",
            "3.141593\n",
            "2.000000\n"
          ],
          "name": "stdout"
        }
      ]
    }
  ]
}