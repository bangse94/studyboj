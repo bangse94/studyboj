{
  "nbformat": 4,
  "nbformat_minor": 0,
  "metadata": {
    "colab": {
      "name": "boj15652.ipynb",
      "provenance": [],
      "authorship_tag": "ABX9TyOJPyihuYOyUY+MHen6+m/C",
      "include_colab_link": true
    },
    "kernelspec": {
      "name": "python3",
      "display_name": "Python 3"
    }
  },
  "cells": [
    {
      "cell_type": "markdown",
      "metadata": {
        "id": "view-in-github",
        "colab_type": "text"
      },
      "source": [
        "<a href=\"https://colab.research.google.com/github/bangse94/studyboj/blob/main/boj15652.ipynb\" target=\"_parent\"><img src=\"https://colab.research.google.com/assets/colab-badge.svg\" alt=\"Open In Colab\"/></a>"
      ]
    },
    {
      "cell_type": "markdown",
      "metadata": {
        "id": "tTJnXvKhCnzR"
      },
      "source": [
        "15652번 : N과 M(4)"
      ]
    },
    {
      "cell_type": "code",
      "metadata": {
        "id": "yHdScHJQ_-5u",
        "outputId": "fe791683-2429-4e70-b02b-4fc371482318",
        "colab": {
          "base_uri": "https://localhost:8080/",
          "height": 217
        }
      },
      "source": [
        "N, M = map(int, input().split())\n",
        "res = []\n",
        "\n",
        "def sol(cnt, idx, N, M):\n",
        "    if cnt == M:\n",
        "        print(*res)\n",
        "        return\n",
        "    for i in range(idx, N):\n",
        "        res.append(i+1)\n",
        "        sol(cnt+1, i, N, M)\n",
        "        res.pop()\n",
        "sol(0, 0, N, M)"
      ],
      "execution_count": 24,
      "outputs": [
        {
          "output_type": "stream",
          "text": [
            "4 2\n",
            "1 1\n",
            "1 2\n",
            "1 3\n",
            "1 4\n",
            "2 2\n",
            "2 3\n",
            "2 4\n",
            "3 3\n",
            "3 4\n",
            "4 4\n"
          ],
          "name": "stdout"
        }
      ]
    }
  ]
}