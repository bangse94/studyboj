{
  "nbformat": 4,
  "nbformat_minor": 0,
  "metadata": {
    "colab": {
      "name": "boj7568.ipynb",
      "provenance": [],
      "authorship_tag": "ABX9TyOuQleGZWlswsVJd5x1omVl",
      "include_colab_link": true
    },
    "kernelspec": {
      "name": "python3",
      "display_name": "Python 3"
    }
  },
  "cells": [
    {
      "cell_type": "markdown",
      "metadata": {
        "id": "view-in-github",
        "colab_type": "text"
      },
      "source": [
        "<a href=\"https://colab.research.google.com/github/bangse94/studyboj/blob/main/boj7568.ipynb\" target=\"_parent\"><img src=\"https://colab.research.google.com/assets/colab-badge.svg\" alt=\"Open In Colab\"/></a>"
      ]
    },
    {
      "cell_type": "markdown",
      "metadata": {
        "id": "tTJnXvKhCnzR"
      },
      "source": [
        "7568번 : 덩치"
      ]
    },
    {
      "cell_type": "code",
      "metadata": {
        "id": "yHdScHJQ_-5u",
        "outputId": "faa6bfea-1a4f-4728-9cb6-3e12ee9760bc",
        "colab": {
          "base_uri": "https://localhost:8080/",
          "height": 143
        }
      },
      "source": [
        "N = int(input())\n",
        "per = []\n",
        "for _ in range(N):\n",
        "    x, y = map(int, input().split())\n",
        "    per.append((x,y))\n",
        "    \n",
        "for j in per:\n",
        "    rank = 1\n",
        "    for k in per:\n",
        "        if (j[0] != k[0]) & (j[1] != k[1]):\n",
        "            if (j[0] < k[0]) & (j[1] < k[1]):\n",
        "                rank += 1\n",
        "    \n",
        "    print(rank, end = ' ')"
      ],
      "execution_count": 11,
      "outputs": [
        {
          "output_type": "stream",
          "text": [
            "5\n",
            "55 185\n",
            "58 183\n",
            "88 186\n",
            "60 175\n",
            "46 155\n",
            "2 2 1 2 5 "
          ],
          "name": "stdout"
        }
      ]
    }
  ]
}