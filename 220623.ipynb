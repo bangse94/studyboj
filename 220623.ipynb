{
  "nbformat": 4,
  "nbformat_minor": 0,
  "metadata": {
    "colab": {
      "name": "Untitled26.ipynb",
      "provenance": [],
      "authorship_tag": "ABX9TyPr/S+TI6sKtnsbIXYzT5uq",
      "include_colab_link": true
    },
    "kernelspec": {
      "name": "python3",
      "display_name": "Python 3"
    },
    "language_info": {
      "name": "python"
    },
    "gpuClass": "standard"
  },
  "cells": [
    {
      "cell_type": "markdown",
      "metadata": {
        "id": "view-in-github",
        "colab_type": "text"
      },
      "source": [
        "<a href=\"https://colab.research.google.com/github/bangse94/studyboj/blob/main/Untitled26.ipynb\" target=\"_parent\"><img src=\"https://colab.research.google.com/assets/colab-badge.svg\" alt=\"Open In Colab\"/></a>"
      ]
    },
    {
      "cell_type": "markdown",
      "source": [
        "BOJ 2440"
      ],
      "metadata": {
        "id": "FlD_A_AsnQSX"
      }
    },
    {
      "cell_type": "code",
      "source": [
        "N = int(input())\n",
        "\n",
        "for i in range(N):\n",
        "    print(\"*\"*(N-i))"
      ],
      "metadata": {
        "colab": {
          "base_uri": "https://localhost:8080/"
        },
        "id": "KgkWvpmAnNRh",
        "outputId": "718f7b07-fa99-4e0b-9f65-6a1b4e77e424"
      },
      "execution_count": 2,
      "outputs": [
        {
          "output_type": "stream",
          "name": "stdout",
          "text": [
            "5\n",
            "*****\n",
            "****\n",
            "***\n",
            "**\n",
            "*\n"
          ]
        }
      ]
    },
    {
      "cell_type": "markdown",
      "source": [
        "BOJ 2241"
      ],
      "metadata": {
        "id": "QP5e1cvopGdU"
      }
    },
    {
      "cell_type": "code",
      "source": [
        "N = int(input())\n",
        "\n",
        "for i in range(0,N):\n",
        "    print(\" \"*i+\"*\"*(N-i))"
      ],
      "metadata": {
        "colab": {
          "base_uri": "https://localhost:8080/"
        },
        "id": "4pSk3ayIpDvh",
        "outputId": "fd484036-7e99-409d-9371-1b5c994b55b5"
      },
      "execution_count": 14,
      "outputs": [
        {
          "output_type": "stream",
          "name": "stdout",
          "text": [
            "5\n",
            "*****\n",
            " ****\n",
            "  ***\n",
            "   **\n",
            "    *\n"
          ]
        }
      ]
    },
    {
      "cell_type": "markdown",
      "source": [
        "BOJ 11718"
      ],
      "metadata": {
        "id": "sqlRPm0_q2Qi"
      }
    },
    {
      "cell_type": "code",
      "source": [
        "while True:\n",
        "    try:\n",
        "        print(input())\n",
        "    except EOFError:\n",
        "        break"
      ],
      "metadata": {
        "id": "c8hfT7Utq2rx"
      },
      "execution_count": null,
      "outputs": []
    },
    {
      "cell_type": "markdown",
      "source": [
        "BOJ 1924"
      ],
      "metadata": {
        "id": "XVqpU7oYtTqR"
      }
    },
    {
      "cell_type": "code",
      "source": [
        "A = ['SUN', 'MON', 'TUE', 'WED', 'THR', 'FRI', 'SAT']\n",
        "B = [31, 28, 31, 30, 31, 30, 31, 31, 30, 31, 30, 31]\n",
        "\n",
        "x, y = map(int, input().split())\n",
        "day = 0\n",
        "for i in range(0, x-1):\n",
        "    day += B[i]\n",
        "\n",
        "day = (day+y)%7\n",
        "\n",
        "print(A[day])"
      ],
      "metadata": {
        "colab": {
          "base_uri": "https://localhost:8080/"
        },
        "id": "eCOPNruZsA2M",
        "outputId": "bbffaf52-e4ab-4af8-f871-85a686461481"
      },
      "execution_count": 5,
      "outputs": [
        {
          "output_type": "stream",
          "name": "stdout",
          "text": [
            "9 2\n",
            "SUN\n"
          ]
        }
      ]
    }
  ]
}
