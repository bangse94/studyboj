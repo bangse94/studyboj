{
  "nbformat": 4,
  "nbformat_minor": 0,
  "metadata": {
    "colab": {
      "name": "boj2750.ipynb",
      "provenance": [],
      "authorship_tag": "ABX9TyNAQ96hjTsTAkm42tgLxpvW",
      "include_colab_link": true
    },
    "kernelspec": {
      "name": "python3",
      "display_name": "Python 3"
    }
  },
  "cells": [
    {
      "cell_type": "markdown",
      "metadata": {
        "id": "view-in-github",
        "colab_type": "text"
      },
      "source": [
        "<a href=\"https://colab.research.google.com/github/bangse94/studyboj/blob/main/boj2750.ipynb\" target=\"_parent\"><img src=\"https://colab.research.google.com/assets/colab-badge.svg\" alt=\"Open In Colab\"/></a>"
      ]
    },
    {
      "cell_type": "markdown",
      "metadata": {
        "id": "tTJnXvKhCnzR"
      },
      "source": [
        "2750번 : 수 정렬하기"
      ]
    },
    {
      "cell_type": "code",
      "metadata": {
        "id": "yHdScHJQ_-5u",
        "outputId": "d772f7e9-6658-48aa-944a-af9300e02c3c",
        "colab": {
          "base_uri": "https://localhost:8080/",
          "height": 215
        }
      },
      "source": [
        "N = int(input())\n",
        "num = []\n",
        "for _ in range(N):\n",
        "    num.append(int(input()))\n",
        "\n",
        "num.sort()\n",
        "\n",
        "for i in range(N):\n",
        "    print(num[i])"
      ],
      "execution_count": 15,
      "outputs": [
        {
          "output_type": "stream",
          "text": [
            "5\n",
            "5\n",
            "4\n",
            "3\n",
            "2\n",
            "1\n",
            "1\n",
            "2\n",
            "3\n",
            "4\n",
            "5\n"
          ],
          "name": "stdout"
        }
      ]
    }
  ]
}