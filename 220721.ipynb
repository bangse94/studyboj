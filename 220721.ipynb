{
  "nbformat": 4,
  "nbformat_minor": 0,
  "metadata": {
    "colab": {
      "name": "220721.ipynb",
      "provenance": [],
      "authorship_tag": "ABX9TyMwXM/ksuhN3fjcHIUvFhIR",
      "include_colab_link": true
    },
    "kernelspec": {
      "name": "python3",
      "display_name": "Python 3"
    },
    "language_info": {
      "name": "python"
    }
  },
  "cells": [
    {
      "cell_type": "markdown",
      "metadata": {
        "id": "view-in-github",
        "colab_type": "text"
      },
      "source": [
        "<a href=\"https://colab.research.google.com/github/bangse94/studyboj/blob/main/220721.ipynb\" target=\"_parent\"><img src=\"https://colab.research.google.com/assets/colab-badge.svg\" alt=\"Open In Colab\"/></a>"
      ]
    },
    {
      "cell_type": "markdown",
      "source": [
        "BOJ 11724"
      ],
      "metadata": {
        "id": "z_wyQr_WdTPM"
      }
    },
    {
      "cell_type": "code",
      "execution_count": 2,
      "metadata": {
        "colab": {
          "base_uri": "https://localhost:8080/"
        },
        "id": "2HlbnKM2dCml",
        "outputId": "bb304a96-8f2f-405c-dcb5-3eeb02a2bbdf"
      },
      "outputs": [
        {
          "output_type": "stream",
          "name": "stdout",
          "text": [
            "6 5\n",
            "1 2\n",
            "2 5\n",
            "5 1\n",
            "3 4\n",
            "4 6\n",
            "2\n"
          ]
        }
      ],
      "source": [
        "import sys\n",
        "sys.setrecursionlimit(10000)\n",
        "\n",
        "N, M = map(int, input().split())\n",
        "\n",
        "graph = [[] for _ in range(N+1)]\n",
        "graph[0] = [0,0]\n",
        "visited = [False for _ in range(N+1)]\n",
        "\n",
        "count = 0\n",
        "\n",
        "for _ in range(M):\n",
        "    start, end = map(int, input().split())\n",
        "    graph[start].append(end)\n",
        "    graph[end].append(start)\n",
        "    graph[start].sort()\n",
        "    graph[end].sort()\n",
        "\n",
        "def DFS(graph, start, visited):\n",
        "    visited[start] = True\n",
        "\n",
        "    for i in graph[start]:\n",
        "        if not visited[i]:\n",
        "            DFS(graph, i, visited)\n",
        "    \n",
        "for i in range(1, len(visited)):\n",
        "    if visited[i] == False:\n",
        "        count += 1\n",
        "        DFS(graph, i, visited)\n",
        "\n",
        "print(count)"
      ]
    },
    {
      "cell_type": "markdown",
      "source": [
        "BOJ 1074"
      ],
      "metadata": {
        "id": "P2iLUSiUf81O"
      }
    },
    {
      "cell_type": "code",
      "source": [
        "N, r, c = map(int, input().split())\n",
        "\n",
        "def z(N, r, c):\n",
        "    if N == 0:\n",
        "        return 0\n",
        "    return 2*(r%2)+(c%2) + 4*z(N-1, int(r/2), int(c/2))\n",
        "\n",
        "print(z(N,r,c))"
      ],
      "metadata": {
        "colab": {
          "base_uri": "https://localhost:8080/"
        },
        "id": "WXU_uB5lgL0P",
        "outputId": "cea26c82-18d8-4ffb-bc5e-d0dd1df5f64e"
      },
      "execution_count": 3,
      "outputs": [
        {
          "output_type": "stream",
          "name": "stdout",
          "text": [
            "10 511 511\n",
            "262143\n"
          ]
        }
      ]
    },
    {
      "cell_type": "markdown",
      "source": [
        "BOJ 1389\n"
      ],
      "metadata": {
        "id": "vy5DfxI9vhhc"
      }
    },
    {
      "cell_type": "code",
      "source": [
        "from collections import deque\n",
        "\n",
        "N, M = map(int, input().split())\n",
        "\n",
        "graph = [[] for _ in range(N+1)]\n",
        "\n",
        "def bfs(graph, start):\n",
        "    num = [0] * (N+1)\n",
        "    visited = [start]\n",
        "    queue = deque()\n",
        "    queue.append(start)\n",
        "    while queue:\n",
        "        a = queue.popleft()\n",
        "        for i in graph[a]:\n",
        "            if i not in visited:\n",
        "                num[i] = num[a] + 1\n",
        "                visited.append(i)\n",
        "                queue.append(i)\n",
        "    return sum(num)\n",
        "\n",
        "\n",
        "for i in range(M):\n",
        "    a, b = map(int, input().split())\n",
        "    graph[a].append(b)\n",
        "    graph[b].append(a)\n",
        "\n",
        "result = []\n",
        "for i in range(1, N+1):\n",
        "    result.append(bfs(graph, i))\n",
        "print(result.index(min(result))+1)"
      ],
      "metadata": {
        "colab": {
          "base_uri": "https://localhost:8080/"
        },
        "id": "4IXJu5k3vjUj",
        "outputId": "fd923b29-8783-4ff6-de2d-848521a4411a"
      },
      "execution_count": 9,
      "outputs": [
        {
          "output_type": "stream",
          "name": "stdout",
          "text": [
            "5 5\n",
            "1 3\n",
            "1 4\n",
            "4 5\n",
            "4 3\n",
            "3 2\n",
            "3\n"
          ]
        }
      ]
    },
    {
      "cell_type": "markdown",
      "source": [
        "BOJ 15964"
      ],
      "metadata": {
        "id": "usLGbsnP2M74"
      }
    },
    {
      "cell_type": "code",
      "source": [
        "A, B = map(int, input().split())\n",
        "\n",
        "def cal(A, B):\n",
        "    if A > 1000 and B > 1000:\n",
        "        return\n",
        "    else:\n",
        "        return (A+B)*(A-B)\n",
        "\n",
        "print(cal(A,B))"
      ],
      "metadata": {
        "colab": {
          "base_uri": "https://localhost:8080/"
        },
        "id": "Lv18-jyU2OjY",
        "outputId": "bc0a1317-cf47-4b01-ae59-8c14a58146dd"
      },
      "execution_count": 11,
      "outputs": [
        {
          "output_type": "stream",
          "name": "stdout",
          "text": [
            "3 4\n",
            "-7\n"
          ]
        }
      ]
    }
  ]
}