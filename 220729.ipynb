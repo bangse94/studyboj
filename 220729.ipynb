{
  "nbformat": 4,
  "nbformat_minor": 0,
  "metadata": {
    "colab": {
      "name": "220729.ipynb",
      "provenance": [],
      "collapsed_sections": [],
      "authorship_tag": "ABX9TyMYP3Qq5pxu8s2YJBgkcpfZ",
      "include_colab_link": true
    },
    "kernelspec": {
      "name": "python3",
      "display_name": "Python 3"
    },
    "language_info": {
      "name": "python"
    }
  },
  "cells": [
    {
      "cell_type": "markdown",
      "metadata": {
        "id": "view-in-github",
        "colab_type": "text"
      },
      "source": [
        "<a href=\"https://colab.research.google.com/github/bangse94/studyboj/blob/main/220729.ipynb\" target=\"_parent\"><img src=\"https://colab.research.google.com/assets/colab-badge.svg\" alt=\"Open In Colab\"/></a>"
      ]
    },
    {
      "cell_type": "markdown",
      "source": [
        "BOJ 1697"
      ],
      "metadata": {
        "id": "Xp1Rn7VIJSG_"
      }
    },
    {
      "cell_type": "code",
      "execution_count": null,
      "metadata": {
        "colab": {
          "base_uri": "https://localhost:8080/"
        },
        "id": "n_NOdQQQGwdm",
        "outputId": "dc36b921-751f-4697-eb82-ed78f4c269c4"
      },
      "outputs": [
        {
          "output_type": "stream",
          "name": "stdout",
          "text": [
            "5 17\n",
            "4\n"
          ]
        }
      ],
      "source": [
        "from collections import deque\n",
        "\n",
        "MAX = 100000\n",
        "N, K = map(int, input().split())\n",
        "dist=[0]*(MAX + 1)\n",
        "\n",
        "def bfs():\n",
        "    q = deque()\n",
        "    q.append(N)\n",
        "    while q:\n",
        "        x = q.popleft()\n",
        "        if x == K:\n",
        "            print(dist[x])\n",
        "            break\n",
        "        \n",
        "        for i in (x-1,x+1,x*2):\n",
        "            if 0 <= i <= MAX and not dist[i]:\n",
        "                dist[i] = dist[x] + 1\n",
        "                q.append(i)\n",
        "\n",
        "bfs()"
      ]
    },
    {
      "cell_type": "markdown",
      "source": [
        "BOJ 1931"
      ],
      "metadata": {
        "id": "jmyIIMr1JVao"
      }
    },
    {
      "cell_type": "code",
      "source": [
        "N = int(input())\n",
        "table = []\n",
        "\n",
        "for i in range(N):\n",
        "    start, end = map(int, input().split())\n",
        "    table.append([start,end])\n",
        "\n",
        "table = sorted(table, key=lambda a: a[0])\n",
        "table = sorted(table, key=lambda a: a[1])\n",
        "last = 0\n",
        "cnt = 0\n",
        "for s,e in table:\n",
        "    if s >= last:\n",
        "        cnt+=1\n",
        "        last = e\n",
        "print(cnt)"
      ],
      "metadata": {
        "colab": {
          "base_uri": "https://localhost:8080/"
        },
        "id": "DIM_lGrdJXFF",
        "outputId": "cd9129f9-d747-4202-d9e0-bbd2521cc427"
      },
      "execution_count": null,
      "outputs": [
        {
          "output_type": "stream",
          "name": "stdout",
          "text": [
            "11\n",
            "1 4\n",
            "3 5\n",
            "0 6\n",
            "5 7\n",
            "3 8\n",
            "5 9\n",
            "6 10\n",
            "8 11\n",
            "8 12\n",
            "2 13\n",
            "12 14\n",
            "4\n"
          ]
        }
      ]
    },
    {
      "cell_type": "markdown",
      "source": [
        "BOJ 7576"
      ],
      "metadata": {
        "id": "wxTo5k0inCml"
      }
    },
    {
      "cell_type": "code",
      "source": [
        "from collections import deque\n",
        "\n",
        "M, N = map(int, input().split())\n",
        "\n",
        "box = [list(map(int, input().split())) for _ in range(N)]\n",
        "queue = deque([])\n",
        "dx, dy = [-1, 1, 0, 0], [0, 0, -1, 1]\n",
        "\n",
        "days = 0\n",
        "\n",
        "for i in range(N):\n",
        "    for j in range(M):\n",
        "        if box[i][j] == 1:\n",
        "            queue.append([i,j])\n",
        "\n",
        "def bfs():\n",
        "    while queue:\n",
        "        x, y = queue.popleft()\n",
        "        for i in range(4):\n",
        "            nx, ny = dx[i] + x, dy[i] + y\n",
        "            if 0 <= nx < N and 0 <= ny < M and box[nx][ny] == 0:\n",
        "                queue.append([nx,ny])\n",
        "                box[nx][ny] = box[x][y] + 1\n",
        "\n",
        "bfs()\n",
        "\n",
        "for tomato in box:\n",
        "    for num in tomato:\n",
        "        if num == 0:\n",
        "            print(-1)\n",
        "            exit(0)\n",
        "    days = max(days, max(tomato))\n",
        "print(days - 1)"
      ],
      "metadata": {
        "colab": {
          "base_uri": "https://localhost:8080/"
        },
        "id": "urLJeV89nEAT",
        "outputId": "d2dbb669-a016-44ec-8d57-f445d68ddf72"
      },
      "execution_count": 5,
      "outputs": [
        {
          "output_type": "stream",
          "name": "stdout",
          "text": [
            "6 4\n",
            "0 -1 0 0 0 0\n",
            "-1 0 0 0 0 0\n",
            "0 0 0 0 0 0\n",
            "0 0 0 0 0 1\n",
            "-1\n",
            "6\n"
          ]
        }
      ]
    },
    {
      "cell_type": "markdown",
      "source": [
        "BOJ 7662"
      ],
      "metadata": {
        "id": "AZwAlB8Zs1XN"
      }
    },
    {
      "cell_type": "code",
      "source": [
        "import heapq\n",
        "\n",
        "T = int(input())\n",
        "\n",
        "for _ in range(T):\n",
        "    max_heap, min_heap = [], []\n",
        "    visit = [False] * 1000001\n",
        "\n",
        "    k = int(input())\n",
        "    for key in range(k):\n",
        "        oper = input().rsplit()\n",
        "        if oper[0] == \"I\":\n",
        "            heapq.heappush(min_heap, (int(oper[1]), key))\n",
        "            heapq.heappush(max_heap, (int(oper[1]) * -1, key))\n",
        "            visit[key] = True\n",
        "\n",
        "        elif oper[0] == \"D\":\n",
        "            if oper[1] == '-1':\n",
        "                while min_heap and not visit[min_heap[0][1]]:\n",
        "                    heapq.heappop(min_heap)\n",
        "                if min_heap:\n",
        "                    visit[min_heap[0][1]] = False\n",
        "                    heapq.heappop(min_heap)\n",
        "            elif oper[1] == '1':\n",
        "                while max_heap and not visit[max_heap[0][1]]:\n",
        "                    heapq.heappop(max_heap)\n",
        "                if max_heap:\n",
        "                    visit[max_heap[0][1]] = False\n",
        "                    heapq.heappop(max_heap)\n",
        "    \n",
        "    while min_heap and not visit[min_heap[0][1]]:\n",
        "        heapq.heappop(min_heap)\n",
        "    while max_heap and not visit[max_heap[0][1]]:\n",
        "        heapq.heappop(max_heap)\n",
        "    \n",
        "    if min_heap and max_heap:\n",
        "        print(-max_heap[0][0], min_heap[0][0])\n",
        "    else:\n",
        "        print('EMPTY')"
      ],
      "metadata": {
        "colab": {
          "base_uri": "https://localhost:8080/"
        },
        "id": "GrSOVYALs22r",
        "outputId": "408573c2-25a7-4130-c821-e48380d519d5"
      },
      "execution_count": 7,
      "outputs": [
        {
          "output_type": "stream",
          "name": "stdout",
          "text": [
            "2\n",
            "7\n",
            "I 16\n",
            "I -5643\n",
            "D -1\n",
            "D 1\n",
            "D 1\n",
            "I 123\n",
            "D -1\n",
            "EMPTY\n",
            "9\n",
            "I -45\n",
            "I 654\n",
            "D 1\n",
            "I -642\n",
            "I 45\n",
            "I 97\n",
            "D 1\n",
            "D -1\n",
            "I 333\n",
            "333 -45\n"
          ]
        }
      ]
    }
  ]
}