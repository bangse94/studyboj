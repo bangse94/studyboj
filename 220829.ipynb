{
  "nbformat": 4,
  "nbformat_minor": 0,
  "metadata": {
    "colab": {
      "name": "220829.ipynb",
      "provenance": [],
      "authorship_tag": "ABX9TyME+Xlvbei9WP9giuWZOpUc",
      "include_colab_link": true
    },
    "kernelspec": {
      "name": "python3",
      "display_name": "Python 3"
    },
    "language_info": {
      "name": "python"
    },
    "gpuClass": "standard"
  },
  "cells": [
    {
      "cell_type": "markdown",
      "metadata": {
        "id": "view-in-github",
        "colab_type": "text"
      },
      "source": [
        "<a href=\"https://colab.research.google.com/github/bangse94/studyboj/blob/main/220829.ipynb\" target=\"_parent\"><img src=\"https://colab.research.google.com/assets/colab-badge.svg\" alt=\"Open In Colab\"/></a>"
      ]
    },
    {
      "cell_type": "markdown",
      "source": [
        "BOJ 1992"
      ],
      "metadata": {
        "id": "_fZn0eBIivVx"
      }
    },
    {
      "cell_type": "code",
      "execution_count": 6,
      "metadata": {
        "colab": {
          "base_uri": "https://localhost:8080/"
        },
        "id": "30rGN50Cejom",
        "outputId": "d5f423e2-65a7-45d5-d609-e138b7cf65d8"
      },
      "outputs": [
        {
          "output_type": "stream",
          "name": "stdout",
          "text": [
            "8\n",
            "11110000\n",
            "11110000\n",
            "00011100\n",
            "00011100\n",
            "11110000\n",
            "11110000\n",
            "11110011\n",
            "11110011\n",
            "((110(0101))(0010)1(0001))"
          ]
        }
      ],
      "source": [
        "N = int(input())\n",
        "img = [list(map(int, input())) for _ in range(N)]\n",
        "\n",
        "def quad_tree(x, y, n):\n",
        "    check = img[x][y]\n",
        "    for i in range(x, x+n):\n",
        "        for j in range(y, y+n):\n",
        "            if check != img[i][j]:\n",
        "                check = -1\n",
        "                break\n",
        "\n",
        "    if check == -1:\n",
        "        print(\"(\", end='')\n",
        "        n = n//2\n",
        "        quad_tree(x, y, n)\n",
        "        quad_tree(x, y+n, n)\n",
        "        quad_tree(x+n, y, n)\n",
        "        quad_tree(x+n, y+n, n)\n",
        "        print(\")\", end=\"\")\n",
        "    elif check == 1:\n",
        "        print(1, end=\"\")\n",
        "    else:\n",
        "        print(0, end=\"\")\n",
        "\n",
        "quad_tree(0,0,N)"
      ]
    },
    {
      "cell_type": "markdown",
      "source": [
        "BOJ 2178"
      ],
      "metadata": {
        "id": "f4Y0f1ZxiybC"
      }
    },
    {
      "cell_type": "code",
      "source": [
        "from collections import deque\n",
        "\n",
        "N, M = map(int, input().split())\n",
        "\n",
        "maze = []\n",
        "\n",
        "for _ in range(N):\n",
        "    maze.append(list(map(int, input())))\n",
        "\n",
        "\n",
        "def bfs(x,y):\n",
        "    dx = [-1, 1, 0, 0]\n",
        "    dy = [0, 0, -1, 1]\n",
        "\n",
        "    deq = deque()\n",
        "    deq.append((x,y))\n",
        "\n",
        "    while deq:\n",
        "        x, y = deq.popleft()\n",
        "\n",
        "        for i in range(4):\n",
        "            nx = x + dx[i]\n",
        "            ny = y + dy[i]\n",
        "\n",
        "            if nx < 0 or nx >= N or ny < 0 or ny >= M:\n",
        "                continue\n",
        "\n",
        "            if maze[nx][ny] == 0:\n",
        "                continue\n",
        "            \n",
        "            if maze[nx][ny] == 1:\n",
        "                maze[nx][ny] = maze[x][y] + 1\n",
        "                deq.append((nx, ny))\n",
        "\n",
        "    return maze[N-1][M-1]\n",
        "\n",
        "print(bfs(0,0))\n"
      ],
      "metadata": {
        "colab": {
          "base_uri": "https://localhost:8080/"
        },
        "id": "iypm_I7Ri0dV",
        "outputId": "001374e4-a545-48d7-b033-3a338e4b5829"
      },
      "execution_count": 9,
      "outputs": [
        {
          "output_type": "stream",
          "name": "stdout",
          "text": [
            "4 6\n",
            "101111\n",
            "101010\n",
            "101011\n",
            "111011\n",
            "15\n"
          ]
        }
      ]
    },
    {
      "cell_type": "markdown",
      "source": [
        "BOJ 2667"
      ],
      "metadata": {
        "id": "ldAd-3RJzqoM"
      }
    },
    {
      "cell_type": "code",
      "source": [
        "from collections import deque\n",
        "\n",
        "N = int(input())\n",
        "apart = [list(map(int, input())) for _ in range(N)]\n",
        "\n",
        "def bfs(apart,x,y):\n",
        "    dx = [-1, 1, 0, 0]\n",
        "    dy = [0, 0, -1, 1]\n",
        "\n",
        "    deq = deque()\n",
        "    deq.append((x,y))\n",
        "    apart[x][y] = 0\n",
        "    count = 1\n",
        "\n",
        "    while deq:\n",
        "        x, y = deq.popleft()\n",
        "\n",
        "        for i in range(4):\n",
        "            nx = x + dx[i]\n",
        "            ny = y + dy[i]\n",
        "            \n",
        "            if nx < 0 or nx >= N or ny < 0 or ny >= N:\n",
        "                continue\n",
        "            if apart[nx][ny] == 1:\n",
        "                apart[nx][ny] = 0\n",
        "                deq.append((nx,ny))\n",
        "                count+=1\n",
        "    return count\n",
        "\n",
        "cnt = []\n",
        "for i in range(N):\n",
        "    for j in range(N):\n",
        "        if apart[i][j] == 1:\n",
        "            cnt.append(bfs(apart, i,j))\n",
        "\n",
        "cnt.sort()\n",
        "print(len(cnt))\n",
        "for i in range(len(cnt)):\n",
        "    print(cnt[i])\n"
      ],
      "metadata": {
        "colab": {
          "base_uri": "https://localhost:8080/"
        },
        "id": "M-j8I6r_zsG5",
        "outputId": "e1a7ccae-f47b-41d9-ef1a-b25cbd200387"
      },
      "execution_count": 11,
      "outputs": [
        {
          "output_type": "stream",
          "name": "stdout",
          "text": [
            "7\n",
            "0110100\n",
            "0110101\n",
            "1110101\n",
            "0000111\n",
            "0100000\n",
            "0111110\n",
            "0111000\n",
            "3\n",
            "7\n",
            "8\n",
            "9\n"
          ]
        }
      ]
    },
    {
      "cell_type": "markdown",
      "source": [
        "BOJ 5525"
      ],
      "metadata": {
        "id": "9T0tJkVu2hSg"
      }
    },
    {
      "cell_type": "code",
      "source": [
        "N = int(input())\n",
        "M = int(input())\n",
        "S = input()\n",
        "ans, idx, count = 0, 0, 0\n",
        "\n",
        "while idx < (M-1):\n",
        "    if S[idx:idx+3] == 'IOI':\n",
        "        idx += 2\n",
        "        count += 1\n",
        "        if count == N:\n",
        "            ans += 1\n",
        "            count -= 1\n",
        "    else:\n",
        "        idx += 1\n",
        "        count =0\n",
        "\n",
        "print(ans)"
      ],
      "metadata": {
        "colab": {
          "base_uri": "https://localhost:8080/"
        },
        "id": "jWQbKVH02jaa",
        "outputId": "17ef86b7-2a94-407f-b65d-6e6cc2d18606"
      },
      "execution_count": 35,
      "outputs": [
        {
          "output_type": "stream",
          "name": "stdout",
          "text": [
            "1\n",
            "13\n",
            "OOIOIOIOIIOII\n",
            "4\n"
          ]
        }
      ]
    },
    {
      "cell_type": "markdown",
      "source": [
        "BOJ 6064"
      ],
      "metadata": {
        "id": "3sUTrU63EJif"
      }
    },
    {
      "cell_type": "markdown",
      "source": [
        "메모리 초과"
      ],
      "metadata": {
        "id": "xYw7_oKyQWuB"
      }
    },
    {
      "cell_type": "code",
      "source": [
        "T = int(input())\n",
        "def calender(M, N):\n",
        "    x = 0\n",
        "    y = 0\n",
        "    while True:\n",
        "        if x < M:\n",
        "            x += 1\n",
        "        elif x == M:\n",
        "            x = 1\n",
        "        if y < N:\n",
        "            y += 1\n",
        "        elif y == N:\n",
        "            y = 1\n",
        "\n",
        "        cal.append([x,y])\n",
        "        \n",
        "        if x == M and y == N:\n",
        "            break\n",
        "\n",
        "for _ in range(T):\n",
        "    cal = []\n",
        "    nums = list(map(int, input().split()))\n",
        "\n",
        "    M, N, x, y = nums[0], nums[1], nums[2], nums[3]\n",
        "    calender(M, N)\n",
        "\n",
        "    if [x,y] in cal:\n",
        "        for idx, [a,b] in enumerate(cal):\n",
        "            if [a,b] == [x,y]:\n",
        "                print(idx+1)\n",
        "    else:\n",
        "        print(-1)\n"
      ],
      "metadata": {
        "colab": {
          "base_uri": "https://localhost:8080/"
        },
        "id": "X9HglqtNEK9p",
        "outputId": "3fa28abb-1fcd-4596-c756-989d0ec62b9a"
      },
      "execution_count": 58,
      "outputs": [
        {
          "output_type": "stream",
          "name": "stdout",
          "text": [
            "3\n",
            "10 12 3 9\n",
            "33\n",
            "10 12 7 2\n",
            "-1\n",
            "13 11 5 6\n",
            "83\n"
          ]
        }
      ]
    },
    {
      "cell_type": "markdown",
      "source": [
        "success"
      ],
      "metadata": {
        "id": "AFA3Aoc6RAhq"
      }
    },
    {
      "cell_type": "code",
      "source": [
        "def num(M, N, x, y):\n",
        "    while x <= M*N:\n",
        "        if (x-y) % N == 0:\n",
        "            return x\n",
        "        x += M\n",
        "    return -1\n",
        "\n",
        "T = int(input())\n",
        "for i in range(T):\n",
        "    M, N, x, y = map(int, input().split())\n",
        "    print(num(M,N,x,y))"
      ],
      "metadata": {
        "colab": {
          "base_uri": "https://localhost:8080/"
        },
        "id": "cnl-GqWVQVkl",
        "outputId": "7f6ccbc4-f80a-44ae-9c41-ae8fe919e722"
      },
      "execution_count": 60,
      "outputs": [
        {
          "output_type": "stream",
          "name": "stdout",
          "text": [
            "3\n",
            "10 12 3 9\n",
            "33\n",
            "10 12 7 2\n",
            "-1\n",
            "13 11 5 6\n",
            "83\n"
          ]
        }
      ]
    },
    {
      "cell_type": "markdown",
      "source": [
        "BOJ 11286"
      ],
      "metadata": {
        "id": "2JXzhgaCSGiP"
      }
    },
    {
      "cell_type": "code",
      "source": [
        "import heapq\n",
        "\n",
        "N = int(input())\n",
        "heap = []\n",
        "\n",
        "for _ in range(N):\n",
        "    num = int(input())\n",
        "    if num != 0:\n",
        "        heapq.heappush(heap, (abs(num), num))\n",
        "    else:\n",
        "        try:\n",
        "            print(heapq.heappop(heap)[1])\n",
        "        except:\n",
        "            print(0)"
      ],
      "metadata": {
        "colab": {
          "base_uri": "https://localhost:8080/"
        },
        "id": "n1XSqkuWSJYh",
        "outputId": "9d460a46-54cc-4519-9116-05a778b9b6a1"
      },
      "execution_count": 62,
      "outputs": [
        {
          "output_type": "stream",
          "name": "stdout",
          "text": [
            "18\n",
            "1\n",
            "-1\n",
            "0\n",
            "-1\n",
            "0\n",
            "1\n",
            "0\n",
            "0\n",
            "1\n",
            "1\n",
            "-1\n",
            "-1\n",
            "2\n",
            "-2\n",
            "0\n",
            "-1\n",
            "0\n",
            "-1\n",
            "0\n",
            "1\n",
            "0\n",
            "1\n",
            "0\n",
            "-2\n",
            "0\n",
            "2\n",
            "0\n",
            "0\n"
          ]
        }
      ]
    }
  ]
}