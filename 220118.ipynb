{
  "nbformat": 4,
  "nbformat_minor": 0,
  "metadata": {
    "colab": {
      "name": "220118.ipynb",
      "provenance": [],
      "authorship_tag": "ABX9TyOLq9Zuu70TzUiqIPBp+w7n",
      "include_colab_link": true
    },
    "kernelspec": {
      "name": "python3",
      "display_name": "Python 3"
    },
    "language_info": {
      "name": "python"
    }
  },
  "cells": [
    {
      "cell_type": "markdown",
      "metadata": {
        "id": "view-in-github",
        "colab_type": "text"
      },
      "source": [
        "<a href=\"https://colab.research.google.com/github/bangse94/studyboj/blob/main/220118.ipynb\" target=\"_parent\"><img src=\"https://colab.research.google.com/assets/colab-badge.svg\" alt=\"Open In Colab\"/></a>"
      ]
    },
    {
      "cell_type": "markdown",
      "source": [
        "BOJ 1717 집합의 표현"
      ],
      "metadata": {
        "id": "6gLOCWWaTo-b"
      }
    },
    {
      "cell_type": "code",
      "execution_count": 1,
      "metadata": {
        "colab": {
          "base_uri": "https://localhost:8080/"
        },
        "id": "CGwm2C2E-TDd",
        "outputId": "0680c452-541b-4cf5-d02a-eed2164bae85"
      },
      "outputs": [
        {
          "output_type": "stream",
          "name": "stdout",
          "text": [
            "7 8\n",
            "0 1 3\n",
            "1 1 7\n",
            "NO\n",
            "0 7 6\n",
            "1 7 1\n",
            "NO\n",
            "0 3 7\n",
            "0 4 2\n",
            "0 1 1\n",
            "1 1 1\n",
            "YES\n"
          ]
        }
      ],
      "source": [
        "n, m = map(int, input().split())\n",
        "\n",
        "parents = [0]*(n+1)\n",
        "for i in range(n+1):\n",
        "    parents[i] = i\n",
        "\n",
        "def union(a,b):\n",
        "    a = find(a)\n",
        "    b = find(b)\n",
        "    if a == b:\n",
        "        return\n",
        "    if a < b:\n",
        "        parents[b] = a\n",
        "    else:\n",
        "        parents[a] = b\n",
        "\n",
        "def find(a):\n",
        "    if a == parents[a]:\n",
        "        return a\n",
        "    p = find(parents[a])\n",
        "    parents[a] = p\n",
        "    return parents[a]\n",
        "\n",
        "\n",
        "for _ in range(m):\n",
        "    op, a, b = map(int, input().split())\n",
        "    if op == 0:\n",
        "        union(a,b)\n",
        "    elif op == 1:\n",
        "        if find(a) == find(b):\n",
        "            print(\"YES\")\n",
        "        else:\n",
        "            print(\"NO\")"
      ]
    },
    {
      "cell_type": "markdown",
      "source": [
        "BOJ 1976 여행가자"
      ],
      "metadata": {
        "id": "KGsnftE4V9Ru"
      }
    },
    {
      "cell_type": "code",
      "source": [
        "import sys\n",
        "sys.setrecursionlimit(10**9)\n",
        "\n",
        "N = int(input())\n",
        "M = int(input())\n",
        "\n",
        "parents = [0]*(N+1)\n",
        "for i in range(N+1):\n",
        "    parents[i] = i\n",
        "\n",
        "def find(a):\n",
        "    if a == parents[a]:\n",
        "        return parents[a]\n",
        "    parents[a] = find(parents[a])\n",
        "    return parents[a]\n",
        "\n",
        "def union(a,b):\n",
        "    a = find(a)\n",
        "    b = find(b)\n",
        "    if a == b:\n",
        "        return\n",
        "    if a < b:\n",
        "        parents[b] = a\n",
        "    else:\n",
        "        parents[a] = b\n",
        "\n",
        "for i in range(N):\n",
        "    connected = list(map(int, input().split()))\n",
        "\n",
        "    for j in range(N):\n",
        "        if connected[j]:\n",
        "            union(i+1, j+1)\n",
        "\n",
        "plan = list(map(int, input().split()))\n",
        "\n",
        "possible = \"YES\"\n",
        "beFoundCity = 0\n",
        "\n",
        "for i, city in enumerate(plan):\n",
        "    findCity = find(city)\n",
        "    if not i:\n",
        "        beFoundCity = findCity\n",
        "        continue\n",
        "    if beFoundCity != find(city):\n",
        "        possible = \"NO\"\n",
        "        break\n",
        "    beFoundedCity = findCity\n",
        "\n",
        "print(possible)"
      ],
      "metadata": {
        "colab": {
          "base_uri": "https://localhost:8080/"
        },
        "id": "lHiudw8zWB4x",
        "outputId": "b5e9aafb-9b8d-4a1f-d7e1-4633d33c2520"
      },
      "execution_count": 5,
      "outputs": [
        {
          "output_type": "stream",
          "name": "stdout",
          "text": [
            "3\n",
            "3\n",
            "0 1 0\n",
            "1 0 1\n",
            "0 1 0\n",
            "1 2 3\n",
            "YES\n"
          ]
        }
      ]
    },
    {
      "cell_type": "markdown",
      "source": [
        "BOJ 4195 친구 네트워크"
      ],
      "metadata": {
        "id": "Q52YcMHEav1_"
      }
    },
    {
      "cell_type": "code",
      "source": [
        "import sys\n",
        "sys.setrecursionlimit(10**9)\n",
        "\n",
        "def find(a):\n",
        "    if a == parents[a]:\n",
        "        return parents[a]\n",
        "    parents[a] = find(parents[a])\n",
        "    return parents[a]\n",
        "\n",
        "def union(a, b):\n",
        "    a = find(a)\n",
        "    b = find(b)\n",
        "    if a != b:\n",
        "        parents[b] = a\n",
        "        number[a] += number[b]\n",
        "\n",
        "T = int(input())\n",
        "\n",
        "for _ in range(T):\n",
        "    parents = dict()\n",
        "    number = dict()\n",
        "\n",
        "    F = int(input())\n",
        "\n",
        "    for _ in range(F):\n",
        "        a, b = input().split(\" \")\n",
        "\n",
        "        if a not in parents:\n",
        "            parents[a] = a\n",
        "            number[a] = 1\n",
        "        if b not in parents:\n",
        "            parents[b] = b\n",
        "            number[b] = 1\n",
        "\n",
        "        union(a,b)\n",
        "        print(number[find(a)])\n",
        "\n",
        "\n",
        "\n",
        "\n",
        "\n",
        "    "
      ],
      "metadata": {
        "colab": {
          "base_uri": "https://localhost:8080/"
        },
        "id": "RW98SLmIa5Xw",
        "outputId": "748e499b-23ee-4351-bda5-8a191ad10fd0"
      },
      "execution_count": 7,
      "outputs": [
        {
          "output_type": "stream",
          "name": "stdout",
          "text": [
            "2\n",
            "3\n",
            "Fred Barney\n",
            "2\n",
            "Barney Betty\n",
            "3\n",
            "Betty Wilma\n",
            "4\n",
            "3\n",
            "Fred Barney\n",
            "2\n",
            "Betty Wilma\n",
            "2\n",
            "Barney Betty\n",
            "4\n"
          ]
        }
      ]
    }
  ]
}