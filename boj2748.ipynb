{
  "nbformat": 4,
  "nbformat_minor": 0,
  "metadata": {
    "colab": {
      "name": "boj2748.ipynb",
      "provenance": [],
      "authorship_tag": "ABX9TyMkhKyacHBXvd8w/0fJytm9",
      "include_colab_link": true
    },
    "kernelspec": {
      "name": "python3",
      "display_name": "Python 3"
    }
  },
  "cells": [
    {
      "cell_type": "markdown",
      "metadata": {
        "id": "view-in-github",
        "colab_type": "text"
      },
      "source": [
        "<a href=\"https://colab.research.google.com/github/bangse94/studyboj/blob/main/boj2748.ipynb\" target=\"_parent\"><img src=\"https://colab.research.google.com/assets/colab-badge.svg\" alt=\"Open In Colab\"/></a>"
      ]
    },
    {
      "cell_type": "markdown",
      "metadata": {
        "id": "XmgneqDmaZNy"
      },
      "source": [
        "2748번 : 피보나치 수 2"
      ]
    },
    {
      "cell_type": "code",
      "metadata": {
        "id": "oJZGBtPnZ-vF",
        "outputId": "04393ae1-f5c9-43b0-ebc7-61e8b527e52c",
        "colab": {
          "base_uri": "https://localhost:8080/",
          "height": 53
        }
      },
      "source": [
        "N = int(input())\n",
        "\n",
        "fibo = [0 for _ in range(N+1)]\n",
        "fibo[1] = 1\n",
        "\n",
        "for i in range(2, N+1):\n",
        "    fibo[i] = fibo[i-1] + fibo[i-2]\n",
        "\n",
        "print(fibo[N])"
      ],
      "execution_count": 5,
      "outputs": [
        {
          "output_type": "stream",
          "text": [
            "10\n",
            "55\n"
          ],
          "name": "stdout"
        }
      ]
    }
  ]
}