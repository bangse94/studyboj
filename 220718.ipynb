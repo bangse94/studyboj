{
  "nbformat": 4,
  "nbformat_minor": 0,
  "metadata": {
    "colab": {
      "name": "220718.ipynb",
      "provenance": [],
      "collapsed_sections": [],
      "authorship_tag": "ABX9TyO/QJA6GYu1Wz/2CUQpz4pp",
      "include_colab_link": true
    },
    "kernelspec": {
      "name": "python3",
      "display_name": "Python 3"
    },
    "language_info": {
      "name": "python"
    }
  },
  "cells": [
    {
      "cell_type": "markdown",
      "metadata": {
        "id": "view-in-github",
        "colab_type": "text"
      },
      "source": [
        "<a href=\"https://colab.research.google.com/github/bangse94/studyboj/blob/main/220718.ipynb\" target=\"_parent\"><img src=\"https://colab.research.google.com/assets/colab-badge.svg\" alt=\"Open In Colab\"/></a>"
      ]
    },
    {
      "cell_type": "markdown",
      "source": [
        "BOJ 1676 팩토리얼 0의 개수"
      ],
      "metadata": {
        "id": "9-4n6fW5XD7Z"
      }
    },
    {
      "cell_type": "code",
      "execution_count": null,
      "metadata": {
        "colab": {
          "base_uri": "https://localhost:8080/"
        },
        "id": "ia_aOn7rXBcn",
        "outputId": "f1c9c33d-6af4-4d81-c05b-844722fccbb7"
      },
      "outputs": [
        {
          "output_type": "stream",
          "name": "stdout",
          "text": [
            "500\n",
            "124\n"
          ]
        }
      ],
      "source": [
        "N = int(input())\n",
        "\n",
        "mul_5 = N//5\n",
        "mul_25 = N//25\n",
        "mul_125 = N//125\n",
        "\n",
        "print(mul_5 + mul_25 + mul_125)"
      ]
    },
    {
      "cell_type": "markdown",
      "source": [
        "BOJ 11723 집합"
      ],
      "metadata": {
        "id": "ieEpfIgVYtbk"
      }
    },
    {
      "cell_type": "code",
      "source": [
        "S = set()\n",
        "\n",
        "m = int(input())\n",
        "for _ in range(m):\n",
        "    args = list(map(str, input().split()))\n",
        "\n",
        "    if len(args) == 1:\n",
        "        if args[0] == 'all':\n",
        "            S = set([i for i in range(1, 21)])\n",
        "        else:\n",
        "            S = set()\n",
        "    else:\n",
        "        oper, x = args[0], args[1]\n",
        "        x = int(x)\n",
        "\n",
        "        if oper == \"add\":\n",
        "            S.add(x)\n",
        "        elif oper == \"remove\":\n",
        "            S.discard(x)\n",
        "        elif oper == \"check\":\n",
        "            print(1 if x in S else 0)\n",
        "        elif oper == \"toggle\":\n",
        "            if x in S:\n",
        "                S.discard(x)\n",
        "            else:\n",
        "                S.add(x)"
      ],
      "metadata": {
        "colab": {
          "base_uri": "https://localhost:8080/"
        },
        "id": "egh9d1bvYtvX",
        "outputId": "33a8d349-9d6a-4c42-c761-ef79bf03206b"
      },
      "execution_count": null,
      "outputs": [
        {
          "name": "stdout",
          "output_type": "stream",
          "text": [
            "26\n",
            "add 1\n",
            "add 2\n",
            "check 1\n",
            "1\n",
            "check 2\n",
            "1\n",
            "check 3\n",
            "0\n",
            "remove 2\n",
            "check 1\n",
            "1\n",
            "check 2\n",
            "0\n",
            "toggle 3\n",
            "check 1\n",
            "1\n",
            "check 2\n",
            "0\n",
            "check 3\n",
            "1\n",
            "check 4\n",
            "0\n",
            "all\n",
            "check 10\n",
            "1\n",
            "check 20\n",
            "1\n",
            "check 10\n",
            "1\n",
            "toggle 10\n",
            "remove 20\n",
            "check 19\n",
            "1\n",
            "check 10\n",
            "0\n",
            "check 20\n",
            "0\n",
            "empth\n",
            "empty\n",
            "check 1\n",
            "0\n",
            "toggle 1\n"
          ]
        }
      ]
    },
    {
      "cell_type": "markdown",
      "source": [
        "BOJ 1620"
      ],
      "metadata": {
        "id": "cHsOwzu3fwzS"
      }
    },
    {
      "cell_type": "code",
      "source": [
        "N, M = map(int, input().split())\n",
        "poke = []\n",
        "poke_dic = {}\n",
        "\n",
        "for i in range(N):\n",
        "    pokemon = input().rstrip()\n",
        "    poke.append(pokemon)\n",
        "    poke_dic[pokemon] = i + 1\n",
        "\n",
        "for _ in range(M):\n",
        "    ques = input().rstrip()\n",
        "\n",
        "    if ques.isdigit():\n",
        "        print(poke[int(ques)-1])\n",
        "    else:\n",
        "        print(poke_dic[ques])\n"
      ],
      "metadata": {
        "colab": {
          "base_uri": "https://localhost:8080/"
        },
        "id": "0Y-fLsEefzIU",
        "outputId": "cbfcd186-67d6-42a0-fb0a-98e3ade4c151"
      },
      "execution_count": null,
      "outputs": [
        {
          "output_type": "stream",
          "name": "stdout",
          "text": [
            "1 1\n",
            "aa\n",
            "1\n",
            "aa\n"
          ]
        }
      ]
    }
  ]
}