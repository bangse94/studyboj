{
  "nbformat": 4,
  "nbformat_minor": 0,
  "metadata": {
    "colab": {
      "name": "220719.ipynb",
      "provenance": [],
      "authorship_tag": "ABX9TyOBPWfH07kOyd4vIKwUYjiE",
      "include_colab_link": true
    },
    "kernelspec": {
      "name": "python3",
      "display_name": "Python 3"
    },
    "language_info": {
      "name": "python"
    }
  },
  "cells": [
    {
      "cell_type": "markdown",
      "metadata": {
        "id": "view-in-github",
        "colab_type": "text"
      },
      "source": [
        "<a href=\"https://colab.research.google.com/github/bangse94/studyboj/blob/main/220719.ipynb\" target=\"_parent\"><img src=\"https://colab.research.google.com/assets/colab-badge.svg\" alt=\"Open In Colab\"/></a>"
      ]
    },
    {
      "cell_type": "markdown",
      "source": [
        "BOJ 1764 듣보잡"
      ],
      "metadata": {
        "id": "G3JE2TOLPMT_"
      }
    },
    {
      "cell_type": "code",
      "execution_count": null,
      "metadata": {
        "colab": {
          "base_uri": "https://localhost:8080/"
        },
        "id": "cu1r_lfzw1BF",
        "outputId": "ded9c923-68ec-4bb6-8414-20b17c683504"
      },
      "outputs": [
        {
          "output_type": "stream",
          "name": "stdout",
          "text": [
            "3 4\n",
            "ohhenrie\n",
            "charlie\n",
            "baesangwook\n",
            "obama\n",
            "baesangwook\n",
            "ohhenrie\n",
            "clinton\n",
            "baesangwook\n",
            "ohhenrie\n"
          ]
        }
      ],
      "source": [
        "N, M = map(int, input().split())\n",
        "\n",
        "no_see = set()\n",
        "no_listen = set()\n",
        "\n",
        "for _ in range(N):\n",
        "    no_see.add(input())\n",
        "\n",
        "for _ in range(M):\n",
        "    no_listen.add(input())\n",
        "\n",
        "dedbo = sorted(no_see & no_listen)\n",
        "print(len(dedbo))\n",
        "for i in range(len(dedbo)):\n",
        "    print(dedbo[i])"
      ]
    },
    {
      "cell_type": "markdown",
      "source": [
        "BOJ 11047"
      ],
      "metadata": {
        "id": "1-xH0R0NPQxJ"
      }
    },
    {
      "cell_type": "code",
      "source": [
        "N, K = map(int, input().split())\n",
        "coin = [int(input()) for _ in range(N)]\n",
        "\n",
        "coin_cnt = 0\n",
        "\n",
        "while K > 0:\n",
        "    temp = coin.pop()\n",
        "    coin_cnt += K // temp\n",
        "    K = K % temp\n",
        "\n",
        "print(coin_cnt)"
      ],
      "metadata": {
        "colab": {
          "base_uri": "https://localhost:8080/"
        },
        "id": "p86fGHrhPZh1",
        "outputId": "b0adf555-8d24-4755-f9d1-f58084c331c2"
      },
      "execution_count": null,
      "outputs": [
        {
          "output_type": "stream",
          "name": "stdout",
          "text": [
            "10 4200\n",
            "1\n",
            "5\n",
            "10\n",
            "50\n",
            "100\n",
            "500\n",
            "1000\n",
            "5000\n",
            "10000\n",
            "50000\n",
            "6\n"
          ]
        }
      ]
    },
    {
      "cell_type": "markdown",
      "source": [
        "BOJ 11399"
      ],
      "metadata": {
        "id": "RWIvFMBnSJiJ"
      }
    },
    {
      "cell_type": "code",
      "source": [
        "N = int(input())\n",
        "P = list(map(int, input().split()))\n",
        "\n",
        "time_sum = []\n",
        "P = sorted(P)\n",
        "for i in range(len(P)):\n",
        "    if i == 0:\n",
        "        time_sum.append(P[0])\n",
        "    else:\n",
        "        time_sum.append(time_sum[i-1] + P[i])\n",
        "\n",
        "print(sum(time_sum))"
      ],
      "metadata": {
        "colab": {
          "base_uri": "https://localhost:8080/"
        },
        "id": "3ZYRm_vwSLwC",
        "outputId": "b3064d94-b4f5-4b58-ba7e-fa7a5f90b638"
      },
      "execution_count": null,
      "outputs": [
        {
          "output_type": "stream",
          "name": "stdout",
          "text": [
            "5\n",
            "3 1 4 3 2\n",
            "32\n"
          ]
        }
      ]
    },
    {
      "cell_type": "markdown",
      "source": [
        "BOJ 17219"
      ],
      "metadata": {
        "id": "O1GCvmRNVGI7"
      }
    },
    {
      "cell_type": "code",
      "source": [
        "N, M = map(int,input().split())\n",
        "\n",
        "memo = {}\n",
        "\n",
        "for _ in range(N):\n",
        "    site, id = map(str, input().split())\n",
        "    memo[site] = id\n",
        "\n",
        "for _ in range(M):\n",
        "    search_site = input()\n",
        "    print(memo[search_site])"
      ],
      "metadata": {
        "colab": {
          "base_uri": "https://localhost:8080/"
        },
        "id": "cz37JGmyVH2q",
        "outputId": "42c8a631-333f-4645-898a-7e834d182510"
      },
      "execution_count": null,
      "outputs": [
        {
          "output_type": "stream",
          "name": "stdout",
          "text": [
            "16 4\n",
            "aaa AAA\n",
            "bbb BBB\n",
            "ccc CCC\n",
            "ddd DDD\n",
            "eee EEE\n",
            "fff FFF\n",
            "ggg GGG\n",
            "hhh HHH\n",
            "iii III\n",
            "jjj JJJ\n",
            "kkk KKK\n",
            "lll LLL\n",
            "mmm MMM\n",
            "nnn NNN\n",
            "ooo OOO\n",
            "ppp PPP\n",
            "aaa\n",
            "AAA\n",
            "bbb\n",
            "BBB\n",
            "ccc\n",
            "CCC\n",
            "ddd\n",
            "DDD\n"
          ]
        }
      ]
    },
    {
      "cell_type": "markdown",
      "source": [
        "BOJ 1463"
      ],
      "metadata": {
        "id": "JY8qWiS-X2Gg"
      }
    },
    {
      "cell_type": "code",
      "source": [
        "N = int(input())\n",
        "\n",
        "ans = [0 for _ in range(N+1)]\n",
        "\n",
        "for i in range(2, N+1):\n",
        "    ans[i] = ans[i-1] + 1\n",
        "\n",
        "    if i % 2 == 0 and ans[i] > ans[i//2] + 1:\n",
        "        ans[i] = ans[i//2] + 1\n",
        "\n",
        "    if i % 3 == 0 and ans[i] > ans[i//3] + 1:\n",
        "        ans[i] = ans[i//3] + 1\n",
        "\n",
        "print(ans[N])"
      ],
      "metadata": {
        "colab": {
          "base_uri": "https://localhost:8080/"
        },
        "id": "M7iHGByoX3lh",
        "outputId": "31a09776-724c-4f55-9160-1d3f3cd39891"
      },
      "execution_count": null,
      "outputs": [
        {
          "output_type": "stream",
          "name": "stdout",
          "text": [
            "10\n",
            "3\n"
          ]
        }
      ]
    },
    {
      "cell_type": "markdown",
      "source": [
        "BOJ 2579"
      ],
      "metadata": {
        "id": "unDbkZstsXl-"
      }
    },
    {
      "cell_type": "code",
      "source": [
        "N = int(input())\n",
        "stairs = [0] * (N+1)\n",
        "dp = [0] * (N+1)\n",
        "\n",
        "for i in range(1, N+1):\n",
        "    stairs[i] = int(input())\n",
        "\n",
        "if N == 1:\n",
        "    print(stairs[N])\n",
        "elif N == 2:\n",
        "    print(stairs[1] + stairs[2])\n",
        "else:\n",
        "    dp[1] = stairs[1]\n",
        "    dp[2] = stairs[1] + stairs[2]\n",
        "    dp[3] = max(stairs[2] + stairs[3], stairs[1] + stairs[3])\n",
        "\n",
        "    for i in range(4, N+1):\n",
        "        dp[i] = max(dp[i-3] + stairs[i] + stairs[i-1], dp[i-2] + stairs[i])\n",
        "\n",
        "    print(dp[N])\n"
      ],
      "metadata": {
        "colab": {
          "base_uri": "https://localhost:8080/"
        },
        "id": "aSTiedTHsY_w",
        "outputId": "e47e3355-a1f6-4121-f71f-9db7b04444c7"
      },
      "execution_count": null,
      "outputs": [
        {
          "output_type": "stream",
          "name": "stdout",
          "text": [
            "6\n",
            "10\n",
            "20\n",
            "15\n",
            "25\n",
            "10\n",
            "20\n",
            "75\n"
          ]
        }
      ]
    }
  ]
}