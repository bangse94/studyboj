{
  "nbformat": 4,
  "nbformat_minor": 0,
  "metadata": {
    "colab": {
      "name": "boj9663.ipynb",
      "provenance": [],
      "authorship_tag": "ABX9TyNF1rrZIpoIAl5qHvIDuo2D",
      "include_colab_link": true
    },
    "kernelspec": {
      "name": "python3",
      "display_name": "Python 3"
    }
  },
  "cells": [
    {
      "cell_type": "markdown",
      "metadata": {
        "id": "view-in-github",
        "colab_type": "text"
      },
      "source": [
        "<a href=\"https://colab.research.google.com/github/bangse94/studyboj/blob/main/boj9663.ipynb\" target=\"_parent\"><img src=\"https://colab.research.google.com/assets/colab-badge.svg\" alt=\"Open In Colab\"/></a>"
      ]
    },
    {
      "cell_type": "markdown",
      "metadata": {
        "id": "tTJnXvKhCnzR"
      },
      "source": [
        "9663번 : N-Queen"
      ]
    },
    {
      "cell_type": "code",
      "metadata": {
        "id": "yHdScHJQ_-5u",
        "outputId": "7d300f58-d7df-432b-f2e2-2357f37992c8",
        "colab": {
          "base_uri": "https://localhost:8080/",
          "height": 54
        }
      },
      "source": [
        "n, ans = int(input()), 0\n",
        "a, b, c = [False]*n, [False]*(2*n-1), [False]*(2*n-1)\n",
        "\n",
        "def ches(i):\n",
        "    global ans\n",
        "    if i == n:\n",
        "        ans += 1\n",
        "        return\n",
        "    for j in range(n):\n",
        "        if not (a[j] or b[i+j] or c[i-j+n-1]):\n",
        "            a[j] = b[i+j] = c[i-j+n-1] = True\n",
        "            chse(i+1)\n",
        "            a[j] = b[i+j] = c[i-j+n-1] = False\n",
        "\n",
        "solve(0)\n",
        "print(ans)"
      ],
      "execution_count": 39,
      "outputs": [
        {
          "output_type": "stream",
          "text": [
            "8\n",
            "92\n"
          ],
          "name": "stdout"
        }
      ]
    }
  ]
}