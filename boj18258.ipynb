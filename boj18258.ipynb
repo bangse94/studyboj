{
  "nbformat": 4,
  "nbformat_minor": 0,
  "metadata": {
    "colab": {
      "name": "boj18258.ipynb",
      "provenance": [],
      "authorship_tag": "ABX9TyOFJNidj9CrJZhfX1sxSU+s",
      "include_colab_link": true
    },
    "kernelspec": {
      "name": "python3",
      "display_name": "Python 3"
    },
    "accelerator": "GPU"
  },
  "cells": [
    {
      "cell_type": "markdown",
      "metadata": {
        "id": "view-in-github",
        "colab_type": "text"
      },
      "source": [
        "<a href=\"https://colab.research.google.com/github/bangse94/studyboj/blob/main/boj18258.ipynb\" target=\"_parent\"><img src=\"https://colab.research.google.com/assets/colab-badge.svg\" alt=\"Open In Colab\"/></a>"
      ]
    },
    {
      "cell_type": "markdown",
      "metadata": {
        "id": "HmT2V6SiwRdX"
      },
      "source": [
        "18258번 : 큐 2"
      ]
    },
    {
      "cell_type": "code",
      "metadata": {
        "id": "IknOnTE7wOXR",
        "outputId": "1ee84b78-342c-4c75-9bca-79a87dadc887",
        "colab": {
          "base_uri": "https://localhost:8080/",
          "height": 508
        }
      },
      "source": [
        "import sys\n",
        "from collections import deque\n",
        "n = int(input())\n",
        "q = deque([])\n",
        "for i in range(n):\n",
        "    op = input().split()\n",
        "    if op[0] == 'push':\n",
        "        q.append(op[1])\n",
        "    elif op[0] == 'pop':\n",
        "        if not q:\n",
        "            print(-1)\n",
        "        else:\n",
        "            print(q.popleft())\n",
        "    elif op[0] == 'size':\n",
        "        print(len(q))\n",
        "    elif op[0] == 'empty':\n",
        "        if not q:\n",
        "            print(1)\n",
        "        else:\n",
        "            print(0)\n",
        "    elif op[0] == 'front':\n",
        "        if not q:\n",
        "            print(-1)\n",
        "        else:\n",
        "            print(q[0])\n",
        "    elif op[0] == 'back':\n",
        "        if not q:\n",
        "            print(-1)\n",
        "        else:\n",
        "            print(q[-1])"
      ],
      "execution_count": 8,
      "outputs": [
        {
          "output_type": "stream",
          "text": [
            "15\n",
            "push 1\n",
            "push 2\n",
            "front\n",
            "1\n",
            "back\n",
            "2\n",
            "sieze\n",
            "empty\n",
            "0\n",
            "pop\n",
            "1\n",
            "pop\n",
            "2\n",
            "pop\n",
            "-1\n",
            "size\n",
            "0\n",
            "empty\n",
            "1\n",
            "pop\n",
            "-1\n",
            "push 3\n",
            "empty\n",
            "0\n",
            "front\n",
            "3\n"
          ],
          "name": "stdout"
        }
      ]
    }
  ]
}