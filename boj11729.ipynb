{
  "nbformat": 4,
  "nbformat_minor": 0,
  "metadata": {
    "colab": {
      "name": "boj11729.ipynb",
      "provenance": [],
      "authorship_tag": "ABX9TyOeVDiWsqzBC0ulJWfFj4RL",
      "include_colab_link": true
    },
    "kernelspec": {
      "name": "python3",
      "display_name": "Python 3"
    }
  },
  "cells": [
    {
      "cell_type": "markdown",
      "metadata": {
        "id": "view-in-github",
        "colab_type": "text"
      },
      "source": [
        "<a href=\"https://colab.research.google.com/github/bangse94/studyboj/blob/main/boj11729.ipynb\" target=\"_parent\"><img src=\"https://colab.research.google.com/assets/colab-badge.svg\" alt=\"Open In Colab\"/></a>"
      ]
    },
    {
      "cell_type": "markdown",
      "metadata": {
        "id": "tTJnXvKhCnzR"
      },
      "source": [
        "11729번 : 하노이 탑 이동 순서"
      ]
    },
    {
      "cell_type": "code",
      "metadata": {
        "id": "yHdScHJQ_-5u",
        "outputId": "2e701770-5e18-4e89-d3f9-f82c8f458025",
        "colab": {
          "base_uri": "https://localhost:8080/",
          "height": 179
        }
      },
      "source": [
        "def hanoi(n, f, t, o):\n",
        "    if n < 2:\n",
        "        print(f, t)\n",
        "        return\n",
        "    hanoi(n - 1, f, o, t)\n",
        "    print(f, t)\n",
        "    hanoi(n - 1, o, t, f)\n",
        "\n",
        "N = int(input())\n",
        "print((2**N)-1)\n",
        "hanoi(N, 1, 3, 2)"
      ],
      "execution_count": 8,
      "outputs": [
        {
          "output_type": "stream",
          "text": [
            "3\n",
            "7\n",
            "1 3\n",
            "1 2\n",
            "3 2\n",
            "1 3\n",
            "2 1\n",
            "2 3\n",
            "1 3\n"
          ],
          "name": "stdout"
        }
      ]
    }
  ]
}