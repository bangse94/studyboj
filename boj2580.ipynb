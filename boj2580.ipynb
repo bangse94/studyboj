{
  "nbformat": 4,
  "nbformat_minor": 0,
  "metadata": {
    "colab": {
      "name": "boj2580.ipynb",
      "provenance": [],
      "authorship_tag": "ABX9TyM5qXtxDfC9Ooe6uYTCYdV3",
      "include_colab_link": true
    },
    "kernelspec": {
      "name": "python3",
      "display_name": "Python 3"
    }
  },
  "cells": [
    {
      "cell_type": "markdown",
      "metadata": {
        "id": "view-in-github",
        "colab_type": "text"
      },
      "source": [
        "<a href=\"https://colab.research.google.com/github/bangse94/studyboj/blob/main/boj2580.ipynb\" target=\"_parent\"><img src=\"https://colab.research.google.com/assets/colab-badge.svg\" alt=\"Open In Colab\"/></a>"
      ]
    },
    {
      "cell_type": "markdown",
      "metadata": {
        "id": "tTJnXvKhCnzR"
      },
      "source": [
        "2580번 : 스도쿠"
      ]
    },
    {
      "cell_type": "code",
      "metadata": {
        "id": "yHdScHJQ_-5u",
        "outputId": "893a8e11-b6d4-4ff6-9a10-f97bd0acad52",
        "colab": {
          "base_uri": "https://localhost:8080/",
          "height": 345
        }
      },
      "source": [
        "sudo = [list(map(int, input().split())) for _ in range(9)]\n",
        "zeros = [(i,j) for i in range(9) for j in range(9) if sudo[i][j] == 0]\n",
        "\n",
        "def collecting(i, j):\n",
        "    collect = [1,2,3,4,5,6,7,8,9]\n",
        "\n",
        "    for k in range(9):\n",
        "        if sudo[i][k] in collect:\n",
        "            collect.remove(sudo[i][k])\n",
        "        if sudo[k][j] in collect:\n",
        "            collect.remove(sudo[k][j])\n",
        "\n",
        "    i //= 3\n",
        "    j //= 3\n",
        "    for p in range(i*3, (i+1)*3):\n",
        "        for q in range(j*3, (j+1)*3):\n",
        "            if sudo[p][q] in collect:\n",
        "                collect.remove(sudo[p][q])\n",
        "        \n",
        "    return collect\n",
        "\n",
        "\n",
        "flag = False\n",
        "\n",
        "def dfs(x):\n",
        "    global flag\n",
        "    if flag:\n",
        "        return\n",
        "    \n",
        "    if x == len(zeros):\n",
        "        for row in sudo:\n",
        "            print(*row)\n",
        "        flag = True\n",
        "        return\n",
        "    \n",
        "    (i, j) = zeros[x]\n",
        "    collect = collecting(i, j)\n",
        "\n",
        "    for num in collect:\n",
        "        sudo[i][j] = num\n",
        "        dfs(x + 1)\n",
        "        sudo[i][j] = 0\n",
        "\n",
        "dfs(0)\n"
      ],
      "execution_count": 44,
      "outputs": [
        {
          "output_type": "stream",
          "text": [
            "0 3 5 4 6 9 2 7 8\n",
            "7 8 2 1 0 5 6 0 9\n",
            "0 6 0 2 7 8 1 3 5\n",
            "3 2 1 0 4 6 8 9 7\n",
            "8 0 4 9 1 3 5 0 6\n",
            "5 9 6 8 2 0 4 1 3\n",
            "9 1 7 6 5 2 0 8 0\n",
            "6 0 3 7 0 1 9 5 2\n",
            "2 5 8 3 9 4 7 6 0\n",
            "1 3 5 4 6 9 2 7 8\n",
            "7 8 2 1 3 5 6 4 9\n",
            "4 6 9 2 7 8 1 3 5\n",
            "3 2 1 5 4 6 8 9 7\n",
            "8 7 4 9 1 3 5 2 6\n",
            "5 9 6 8 2 7 4 1 3\n",
            "9 1 7 6 5 2 3 8 4\n",
            "6 4 3 7 8 1 9 5 2\n",
            "2 5 8 3 9 4 7 6 1\n"
          ],
          "name": "stdout"
        }
      ]
    }
  ]
}