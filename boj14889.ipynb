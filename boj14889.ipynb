{
  "nbformat": 4,
  "nbformat_minor": 0,
  "metadata": {
    "colab": {
      "name": "boj14889.ipynb",
      "provenance": [],
      "authorship_tag": "ABX9TyOt+RYc0YMxEQwrS8VFpfHZ",
      "include_colab_link": true
    },
    "kernelspec": {
      "name": "python3",
      "display_name": "Python 3"
    }
  },
  "cells": [
    {
      "cell_type": "markdown",
      "metadata": {
        "id": "view-in-github",
        "colab_type": "text"
      },
      "source": [
        "<a href=\"https://colab.research.google.com/github/bangse94/studyboj/blob/main/boj14889.ipynb\" target=\"_parent\"><img src=\"https://colab.research.google.com/assets/colab-badge.svg\" alt=\"Open In Colab\"/></a>"
      ]
    },
    {
      "cell_type": "markdown",
      "metadata": {
        "id": "XmgneqDmaZNy"
      },
      "source": [
        "14889번 : 스타트와 링크"
      ]
    },
    {
      "cell_type": "code",
      "metadata": {
        "id": "oJZGBtPnZ-vF",
        "outputId": "585f4ec5-88ad-4be8-f2b0-590a7dabf4cc",
        "colab": {
          "base_uri": "https://localhost:8080/",
          "height": 197
        }
      },
      "source": [
        "from itertools import combinations\n",
        "\n",
        "N = int(input())\n",
        "ability = []\n",
        "for _ in range(N):\n",
        "    ability.append(list(map(int, input().split())))\n",
        "member = [i for i in range(N)]\n",
        "res = float(200*N)\n",
        "\n",
        "def sol():\n",
        "    global res\n",
        "\n",
        "    for id in combinations(member, N//2):\n",
        "        start_member = list(id)\n",
        "        link_member = list(set(member)-set(id))\n",
        "\n",
        "        start_comb = list(combinations(start_member, 2))\n",
        "        link_comb = list(combinations(link_member, 2))\n",
        "\n",
        "        start_sum = 0\n",
        "        for i, j in start_comb:\n",
        "            start_sum += (ability[i][j] + ability[j][i])\n",
        "        \n",
        "        link_sum = 0\n",
        "        for i, j in link_comb:\n",
        "            link_sum += (ability[i][j] + ability[j][i])\n",
        "\n",
        "        if res > abs(start_sum - link_sum):\n",
        "            res = abs(start_sum - link_sum)\n",
        "\n",
        "sol()\n",
        "print(res)"
      ],
      "execution_count": 3,
      "outputs": [
        {
          "output_type": "stream",
          "text": [
            "8\n",
            "0 5 4 5 4 5 4 5\n",
            "4 0 5 1 2 3 4 5\n",
            "9 8 0 1 2 3 1 2\n",
            "9 9 9 0 9 9 9 9\n",
            "1 1 1 1 0 1 1 1\n",
            "8 7 6 5 4 0 3 2\n",
            "9 1 9 1 9 1 0 9\n",
            "6 5 4 3 2 1 9 0\n",
            "1\n"
          ],
          "name": "stdout"
        }
      ]
    }
  ]
}