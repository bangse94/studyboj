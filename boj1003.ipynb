{
  "nbformat": 4,
  "nbformat_minor": 0,
  "metadata": {
    "colab": {
      "name": "boj1003.ipynb",
      "provenance": [],
      "authorship_tag": "ABX9TyNkrGYBv2RBfNxy3L6TWo3+",
      "include_colab_link": true
    },
    "kernelspec": {
      "name": "python3",
      "display_name": "Python 3"
    }
  },
  "cells": [
    {
      "cell_type": "markdown",
      "metadata": {
        "id": "view-in-github",
        "colab_type": "text"
      },
      "source": [
        "<a href=\"https://colab.research.google.com/github/bangse94/studyboj/blob/main/boj1003.ipynb\" target=\"_parent\"><img src=\"https://colab.research.google.com/assets/colab-badge.svg\" alt=\"Open In Colab\"/></a>"
      ]
    },
    {
      "cell_type": "markdown",
      "metadata": {
        "id": "XmgneqDmaZNy"
      },
      "source": [
        "1003번 : 피보나치 함수"
      ]
    },
    {
      "cell_type": "code",
      "metadata": {
        "id": "oJZGBtPnZ-vF",
        "outputId": "94d60778-60a0-4d1c-bc2d-7915ea20e029",
        "colab": {
          "base_uri": "https://localhost:8080/",
          "height": 143
        }
      },
      "source": [
        "def cnt_fibonaci(n):\n",
        "    zero_cnt = [1, 0]\n",
        "    one_cnt = [0, 1]\n",
        "    if n <= 1:\n",
        "        return\n",
        "    for i in range(2, n+1):\n",
        "        zero_cnt.append(zero_cnt[i-1] + zero_cnt[i-2])\n",
        "        one_cnt.append(one_cnt[i-1] + one_cnt[i-2])\n",
        "    \n",
        "    return zero_cnt, one_cnt\n",
        "\n",
        "T = int(input())\n",
        "zero, one = cnt_fibonaci(40)\n",
        "\n",
        "for _ in range(T):\n",
        "    n = int(input())\n",
        "    print(\"%d %d\" % (zero[n], one[n]))\n"
      ],
      "execution_count": 6,
      "outputs": [
        {
          "output_type": "stream",
          "text": [
            "3\n",
            "0\n",
            "1 0\n",
            "1\n",
            "0 1\n",
            "3\n",
            "1 2\n"
          ],
          "name": "stdout"
        }
      ]
    }
  ]
}