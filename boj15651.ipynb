{
  "nbformat": 4,
  "nbformat_minor": 0,
  "metadata": {
    "colab": {
      "name": "boj15651.ipynb",
      "provenance": [],
      "authorship_tag": "ABX9TyNKz4V6PnPZIOqhQBI95t0r",
      "include_colab_link": true
    },
    "kernelspec": {
      "name": "python3",
      "display_name": "Python 3"
    }
  },
  "cells": [
    {
      "cell_type": "markdown",
      "metadata": {
        "id": "view-in-github",
        "colab_type": "text"
      },
      "source": [
        "<a href=\"https://colab.research.google.com/github/bangse94/studyboj/blob/main/boj15651.ipynb\" target=\"_parent\"><img src=\"https://colab.research.google.com/assets/colab-badge.svg\" alt=\"Open In Colab\"/></a>"
      ]
    },
    {
      "cell_type": "markdown",
      "metadata": {
        "id": "tTJnXvKhCnzR"
      },
      "source": [
        "15651번 : N과 M(3)"
      ]
    },
    {
      "cell_type": "code",
      "metadata": {
        "id": "yHdScHJQ_-5u",
        "outputId": "f7293fb3-de44-42b3-bcb1-7deee35e9ba2",
        "colab": {
          "base_uri": "https://localhost:8080/",
          "height": 326
        }
      },
      "source": [
        "N, M = map(int, input().split())\n",
        "rslt = [0 for _ in range(M)]\n",
        "\n",
        "def sol(idx, N, M):\n",
        "    if idx == M:\n",
        "        for i in rslt:\n",
        "            print(i, end=\" \")\n",
        "        print()\n",
        "        return\n",
        "    for i in range(1, N+1):\n",
        "        rslt[idx] = i\n",
        "        sol(idx+1,N,M)   \n",
        "sol(0, N, M)"
      ],
      "execution_count": 22,
      "outputs": [
        {
          "output_type": "stream",
          "text": [
            "4 2\n",
            "1 1 \n",
            "1 2 \n",
            "1 3 \n",
            "1 4 \n",
            "2 1 \n",
            "2 2 \n",
            "2 3 \n",
            "2 4 \n",
            "3 1 \n",
            "3 2 \n",
            "3 3 \n",
            "3 4 \n",
            "4 1 \n",
            "4 2 \n",
            "4 3 \n",
            "4 4 \n"
          ],
          "name": "stdout"
        }
      ]
    }
  ]
}