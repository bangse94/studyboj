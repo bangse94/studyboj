{
  "nbformat": 4,
  "nbformat_minor": 0,
  "metadata": {
    "colab": {
      "name": "boj11725.ipynb",
      "provenance": [],
      "authorship_tag": "ABX9TyPbGyMbaufRlwJINEXnYs4o",
      "include_colab_link": true
    },
    "kernelspec": {
      "name": "python3",
      "display_name": "Python 3"
    }
  },
  "cells": [
    {
      "cell_type": "markdown",
      "metadata": {
        "id": "view-in-github",
        "colab_type": "text"
      },
      "source": [
        "<a href=\"https://colab.research.google.com/github/bangse94/studyboj/blob/main/boj11725.ipynb\" target=\"_parent\"><img src=\"https://colab.research.google.com/assets/colab-badge.svg\" alt=\"Open In Colab\"/></a>"
      ]
    },
    {
      "cell_type": "markdown",
      "metadata": {
        "id": "XmgneqDmaZNy"
      },
      "source": [
        "11725번 : 트리의 부모 찾기"
      ]
    },
    {
      "cell_type": "code",
      "metadata": {
        "id": "oJZGBtPnZ-vF",
        "outputId": "a726cf40-d84f-46f2-abfc-018e57ecc81e",
        "colab": {
          "base_uri": "https://localhost:8080/",
          "height": 431
        }
      },
      "source": [
        "import sys\n",
        "#sys.setrecursionlimit(10**9)\n",
        "\n",
        "N = int(sys.stdin.readline())\n",
        "tree = [[] for _ in range(N+1)]\n",
        "for _ in range(N-1):\n",
        "    a, b = map(int, sys.stdin.readline().split())\n",
        "    tree[a].append(b)\n",
        "    tree[b].append(a)\n",
        "\n",
        "parents = [0 for _ in range(N+1)]\n",
        "def dfs(root, tree, parents):\n",
        "    for i in tree[root]:\n",
        "        if parents[i] == 0:\n",
        "            parents[i] = root\n",
        "            dfs(i, tree, parents)\n",
        "\n",
        "dfs(1, tree, parents)\n",
        "\n",
        "for i in range(2, N+1):\n",
        "    print(parents[i])"
      ],
      "execution_count": 5,
      "outputs": [
        {
          "output_type": "stream",
          "text": [
            "12\n",
            "1 2\n",
            "1 3\n",
            "2 4\n",
            "3 5\n",
            "3 6\n",
            "4 7\n",
            "4 8\n",
            "5 9\n",
            "5 10\n",
            "6 11\n",
            "6 12\n",
            "1\n",
            "1\n",
            "2\n",
            "3\n",
            "3\n",
            "4\n",
            "4\n",
            "5\n",
            "5\n",
            "6\n",
            "6\n"
          ],
          "name": "stdout"
        }
      ]
    }
  ]
}