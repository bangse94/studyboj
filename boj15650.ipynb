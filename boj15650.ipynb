{
  "nbformat": 4,
  "nbformat_minor": 0,
  "metadata": {
    "colab": {
      "name": "boj15650.ipynb",
      "provenance": [],
      "authorship_tag": "ABX9TyMpemQXnZhtxPM3LltPXu8i",
      "include_colab_link": true
    },
    "kernelspec": {
      "name": "python3",
      "display_name": "Python 3"
    }
  },
  "cells": [
    {
      "cell_type": "markdown",
      "metadata": {
        "id": "view-in-github",
        "colab_type": "text"
      },
      "source": [
        "<a href=\"https://colab.research.google.com/github/bangse94/studyboj/blob/main/boj15650.ipynb\" target=\"_parent\"><img src=\"https://colab.research.google.com/assets/colab-badge.svg\" alt=\"Open In Colab\"/></a>"
      ]
    },
    {
      "cell_type": "markdown",
      "metadata": {
        "id": "tTJnXvKhCnzR"
      },
      "source": [
        "15650번 : N과 M(2)"
      ]
    },
    {
      "cell_type": "code",
      "metadata": {
        "id": "yHdScHJQ_-5u",
        "outputId": "a4db0157-de14-4cab-8e89-c4961e0df59d",
        "colab": {
          "base_uri": "https://localhost:8080/",
          "height": 54
        }
      },
      "source": [
        "N, M = map(int, input().split())\n",
        "visited = [False]*N\n",
        "rslt = []\n",
        "\n",
        "def dfs(cnt, idx):\n",
        "    if cnt == M:\n",
        "        print(' '.join(map(str, rslt)))\n",
        "        return\n",
        "\n",
        "    for i in range(idx, N):\n",
        "        if not visited[i]:\n",
        "            visited[i] = True\n",
        "            rslt.append(i+1)\n",
        "            dfs(cnt+1, i +1)\n",
        "            visited[i] = False\n",
        "            rslt.pop()\n",
        "    \n",
        "dfs(0,0)"
      ],
      "execution_count": 9,
      "outputs": [
        {
          "output_type": "stream",
          "text": [
            "4 4\n",
            "1 2 3 4\n"
          ],
          "name": "stdout"
        }
      ]
    }
  ]
}