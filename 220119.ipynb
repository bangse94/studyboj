{
  "nbformat": 4,
  "nbformat_minor": 0,
  "metadata": {
    "colab": {
      "name": "220119.ipynb",
      "provenance": [],
      "authorship_tag": "ABX9TyNo1a2N6xe3tGrbJ4kcwp7P",
      "include_colab_link": true
    },
    "kernelspec": {
      "name": "python3",
      "display_name": "Python 3"
    },
    "language_info": {
      "name": "python"
    }
  },
  "cells": [
    {
      "cell_type": "markdown",
      "metadata": {
        "id": "view-in-github",
        "colab_type": "text"
      },
      "source": [
        "<a href=\"https://colab.research.google.com/github/bangse94/studyboj/blob/main/220119.ipynb\" target=\"_parent\"><img src=\"https://colab.research.google.com/assets/colab-badge.svg\" alt=\"Open In Colab\"/></a>"
      ]
    },
    {
      "cell_type": "markdown",
      "source": [
        "BOJ 1918 후위표기식"
      ],
      "metadata": {
        "id": "eUdq9kxXoXoN"
      }
    },
    {
      "cell_type": "code",
      "execution_count": 3,
      "metadata": {
        "colab": {
          "base_uri": "https://localhost:8080/"
        },
        "id": "V0w7llK3Xn9c",
        "outputId": "477ae051-6457-4ca8-88fc-a1915cf13705"
      },
      "outputs": [
        {
          "output_type": "stream",
          "name": "stdout",
          "text": [
            "A*(B+C)\n",
            "ABC+*\n"
          ]
        }
      ],
      "source": [
        "pre = list(input())\n",
        "stack = []\n",
        "res = ''\n",
        "\n",
        "for str in pre:\n",
        "    if str.isalpha():\n",
        "        res += str\n",
        "    else:\n",
        "        if str == '(':\n",
        "            stack.append(str)\n",
        "        elif str == '*' or str == '/':\n",
        "            while stack and (stack[-1] == '*' or stack[-1] == '/'):\n",
        "                res += stack.pop()\n",
        "            stack.append(str)\n",
        "        elif str == '+' or str == '-':\n",
        "            while stack and stack[-1] != '(':\n",
        "                res += stack.pop()\n",
        "            stack.append(str)\n",
        "        elif str == ')':\n",
        "            while stack and stack[-1] != '(':\n",
        "                res += stack.pop()\n",
        "            stack.pop()\n",
        "\n",
        "while stack:\n",
        "    res += stack.pop()\n",
        "\n",
        "print(res)"
      ]
    }
  ]
}