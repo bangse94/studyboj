{
  "nbformat": 4,
  "nbformat_minor": 0,
  "metadata": {
    "colab": {
      "name": "boj10773.ipynb",
      "provenance": [],
      "authorship_tag": "ABX9TyOE4z7iuMCyEvMXqJKtQwFy",
      "include_colab_link": true
    },
    "kernelspec": {
      "name": "python3",
      "display_name": "Python 3"
    },
    "accelerator": "GPU"
  },
  "cells": [
    {
      "cell_type": "markdown",
      "metadata": {
        "id": "view-in-github",
        "colab_type": "text"
      },
      "source": [
        "<a href=\"https://colab.research.google.com/github/bangse94/studyboj/blob/main/boj10773.ipynb\" target=\"_parent\"><img src=\"https://colab.research.google.com/assets/colab-badge.svg\" alt=\"Open In Colab\"/></a>"
      ]
    },
    {
      "cell_type": "markdown",
      "metadata": {
        "id": "HmT2V6SiwRdX"
      },
      "source": [
        "10773번 : 제로"
      ]
    },
    {
      "cell_type": "code",
      "metadata": {
        "id": "IknOnTE7wOXR",
        "outputId": "128808c8-8208-481e-fc4a-2bb2d9bb7b89",
        "colab": {
          "base_uri": "https://localhost:8080/",
          "height": 235
        }
      },
      "source": [
        "K = int(input())\n",
        "stack = []\n",
        "for _ in range(K):\n",
        "    num = int(input())\n",
        "\n",
        "    if num != 0:\n",
        "        stack.append(num)\n",
        "    else:\n",
        "        stack.pop()\n",
        "\n",
        "print(sum(stack))"
      ],
      "execution_count": 1,
      "outputs": [
        {
          "output_type": "stream",
          "text": [
            "10\n",
            "1\n",
            "3\n",
            "5\n",
            "4\n",
            "0\n",
            "0\n",
            "7\n",
            "0\n",
            "0\n",
            "6\n",
            "7\n"
          ],
          "name": "stdout"
        }
      ]
    }
  ]
}