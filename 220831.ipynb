{
  "nbformat": 4,
  "nbformat_minor": 0,
  "metadata": {
    "colab": {
      "provenance": [],
      "authorship_tag": "ABX9TyMxcTfELsDH+rK1h5rPCo34",
      "include_colab_link": true
    },
    "kernelspec": {
      "name": "python3",
      "display_name": "Python 3"
    },
    "language_info": {
      "name": "python"
    }
  },
  "cells": [
    {
      "cell_type": "markdown",
      "metadata": {
        "id": "view-in-github",
        "colab_type": "text"
      },
      "source": [
        "<a href=\"https://colab.research.google.com/github/bangse94/studyboj/blob/main/220831.ipynb\" target=\"_parent\"><img src=\"https://colab.research.google.com/assets/colab-badge.svg\" alt=\"Open In Colab\"/></a>"
      ]
    },
    {
      "cell_type": "markdown",
      "source": [
        "BOJ 11403"
      ],
      "metadata": {
        "id": "xOjKqP5zl2UY"
      }
    },
    {
      "cell_type": "code",
      "execution_count": null,
      "metadata": {
        "colab": {
          "base_uri": "https://localhost:8080/"
        },
        "id": "H9kJN7-El0WE",
        "outputId": "e81376bc-2bfc-4ecc-a362-6af50db0ccb6"
      },
      "outputs": [
        {
          "output_type": "stream",
          "name": "stdout",
          "text": [
            "3\n",
            "0 1 0\n",
            "0 0 1\n",
            "1 0 0\n",
            "1 1 1 \n",
            "1 1 1 \n",
            "1 1 1 \n"
          ]
        }
      ],
      "source": [
        "N = int(input())\n",
        "graph = []\n",
        "\n",
        "for _ in range(N):\n",
        "    graph.append(list(map(int, input().split())))\n",
        "\n",
        "for k in range(N):\n",
        "    for i in range(N):\n",
        "        for j in range(N):\n",
        "            if graph[i][j] == 1 or (graph[i][k] == 1 and graph[k][j] == 1):\n",
        "                graph[i][j] =1\n",
        "\n",
        "for row in graph:\n",
        "    for col in row:\n",
        "        print(col, end = \" \")\n",
        "    print()"
      ]
    },
    {
      "cell_type": "markdown",
      "source": [
        "BOJ 1107"
      ],
      "metadata": {
        "id": "u4YwtrwMs7LY"
      }
    },
    {
      "cell_type": "code",
      "source": [
        "N = int(input())\n",
        "ans = abs(100 - N)\n",
        "M = int(input())\n",
        "if M:\n",
        "    broken = list(map(int, input().split()))\n",
        "else:\n",
        "    broken = []\n",
        "\n",
        "for ch in range(1000001):\n",
        "    ch = str(ch)\n",
        "    for j in range(len(ch)):\n",
        "        if int(ch[j]) in broken:\n",
        "            break\n",
        "        elif j == len(ch) - 1:\n",
        "            ans = min(ans, abs(int(ch) - N) + len(ch))\n",
        "\n",
        "print(ans)"
      ],
      "metadata": {
        "colab": {
          "base_uri": "https://localhost:8080/"
        },
        "id": "zsZBqZOAs8qV",
        "outputId": "28601a53-73c2-421f-f794-c7a3db69f91a"
      },
      "execution_count": null,
      "outputs": [
        {
          "output_type": "stream",
          "name": "stdout",
          "text": [
            "5457\n",
            "3\n",
            "6 7 8\n",
            "6\n"
          ]
        }
      ]
    },
    {
      "cell_type": "markdown",
      "source": [
        "BOJ 5430"
      ],
      "metadata": {
        "id": "15WfvFIRIdjQ"
      }
    },
    {
      "cell_type": "code",
      "source": [
        "from collections import deque\n",
        "\n",
        "T = int(input())\n",
        "\n",
        "for _ in range(T):\n",
        "    p = input().rstrip()\n",
        "    n = int(input())\n",
        "    que = deque(input().rstrip()[1:-1].split(\",\"))\n",
        "\n",
        "    r_cnt, front, back = 0, 0, len(que) -1\n",
        "    if n == 0:\n",
        "        que = deque()\n",
        "        front = 0\n",
        "        back = 0\n",
        "\n",
        "    flag = 0\n",
        "    for j in p:\n",
        "        if j == \"R\":\n",
        "            r_cnt+=1\n",
        "        elif j == \"D\":\n",
        "            if len(que) < 1:\n",
        "                flag = 1\n",
        "                print(\"error\")\n",
        "                break\n",
        "            else:\n",
        "                if r_cnt % 2 == 0:\n",
        "                    que.popleft()\n",
        "                else :\n",
        "                    que.pop()\n",
        "    if flag == 0:\n",
        "        if r_cnt % 2 == 0:\n",
        "            print(\"[\" + \",\".join(que)+\"]\")\n",
        "        else:\n",
        "            que.reverse()\n",
        "            print(\"[\" + \",\".join(que)+\"]\")"
      ],
      "metadata": {
        "colab": {
          "base_uri": "https://localhost:8080/"
        },
        "id": "lm9cfvEoJin9",
        "outputId": "7a341d1e-4ebf-4fee-b309-070d1a642c04"
      },
      "execution_count": null,
      "outputs": [
        {
          "output_type": "stream",
          "name": "stdout",
          "text": [
            "4\n",
            "RDD\n",
            "4\n",
            "[1,2,3,4]\n",
            "[2,1]\n",
            "DD\n",
            "1\n",
            "[42]\n",
            "error\n",
            "RDD\n",
            "6\n",
            "[1,1,2,3,5,8]\n",
            "[3,2,1,1]\n",
            "D\n",
            "0\n",
            "[]\n",
            "error\n"
          ]
        }
      ]
    },
    {
      "cell_type": "markdown",
      "source": [
        "BOJ 7569"
      ],
      "metadata": {
        "id": "SdjqmHUuN8sF"
      }
    },
    {
      "cell_type": "code",
      "source": [
        "from collections import deque\n",
        "dx = [1, -1, 0, 0, 0, 0]\n",
        "dy = [0, 0, -1, 1, 0, 0]\n",
        "dz = [0, 0, 0, 0, -1, 1]\n",
        "def bfs():\n",
        "    while q:\n",
        "        a, b, c = q.popleft()\n",
        "        visit[c][a][b] = 1\n",
        "        for i in range(6):\n",
        "            x = a + dx[i]\n",
        "            y = b + dy[i]\n",
        "            z = c + dz[i]\n",
        "            if 0 <= x < n and 0 <= y < m and 0 <= z < h and s[z][x][y] == 0 and visit[z][x][y] == 0:\n",
        "                q.append([x, y, z])\n",
        "                s[z][x][y] = s[c][a][b] + 1\n",
        "                visit[z][x][y] = 1\n",
        "m, n, h = map(int, input().split())\n",
        "s = [[] for i in range(h)]\n",
        "visit = [[[0 for i in range(m)] for i in range(n)] for i in range(h)]\n",
        "q = deque()\n",
        "isTrue = False\n",
        "st = False\n",
        "for i in range(h):\n",
        "    for j in range(n):\n",
        "        s[i].append(list(map(int, input().split())))\n",
        "for z in range(h):\n",
        "    for x in range(n):\n",
        "        for y in range(m):\n",
        "            if s[z][x][y] == 1:\n",
        "                q.append([x, y, z])\n",
        "bfs()\n",
        "max_num = 0\n",
        "for z in range(h):\n",
        "    for x in range(n):\n",
        "        for y in range(m):\n",
        "            if s[z][x][y] == 0:\n",
        "                isTrue = True\n",
        "            max_num = max(max_num, s[z][x][y])\n",
        "if isTrue == True:\n",
        "    print(-1)\n",
        "else:\n",
        "    print(max_num - 1)"
      ],
      "metadata": {
        "colab": {
          "base_uri": "https://localhost:8080/"
        },
        "id": "m-2n5djCN-jH",
        "outputId": "6e2106af-195e-4799-feb0-099297761419"
      },
      "execution_count": null,
      "outputs": [
        {
          "output_type": "stream",
          "name": "stdout",
          "text": [
            "5 3 2\n",
            "0 0 0 0 0 \n",
            "0 0 0 0 0\n",
            "0 0 0 0 0\n",
            "0 0 0 0 0 \n",
            "0 0 1 0 0\n",
            "0 0 0 0 0\n",
            "4\n"
          ]
        }
      ]
    },
    {
      "cell_type": "markdown",
      "source": [
        "BOJ 10026"
      ],
      "metadata": {
        "id": "PgmRCHDLWCQ6"
      }
    },
    {
      "cell_type": "code",
      "source": [
        "import sys\n",
        "import copy\n",
        "from collections import deque\n",
        "sys.setrecursionlimit(10000)\n",
        "\n",
        "N = int(input())\n",
        "graph = [list(input().rstrip()) for _ in range(N)]\n",
        "nor_cnt, abnor_cnt = 0, 0\n",
        "visited = [[False] * N for _ in range(N)]\n",
        "dx = [-1, 1, 0, 0]\n",
        "dy = [0, 0, -1, 1]\n",
        "\n",
        "def dfs(x,y):\n",
        "    visited[x][y] = True\n",
        "    current_color = graph[x][y]\n",
        "\n",
        "    for k in range(4):\n",
        "        nx = x + dx[k]\n",
        "        ny = y + dy[k]\n",
        "        if 0 <= nx < N and 0 <= ny < N:\n",
        "            if visited[nx][ny] == False:\n",
        "                if graph[nx][ny] == current_color:\n",
        "                    dfs(nx,ny)\n",
        "\n",
        "for i in range(N):\n",
        "    for j in range(N):\n",
        "        if visited[i][j] == False:\n",
        "            dfs(i, j)\n",
        "            nor_cnt += 1\n",
        "\n",
        "for i in range(N):\n",
        "    for j in range(N):\n",
        "        if graph[i][j] == \"G\":\n",
        "            graph[i][j] = \"R\"\n",
        "\n",
        "visited = [[False] * N for _ in range(N)]\n",
        "\n",
        "for i in range(N):\n",
        "    for j in range(N):\n",
        "        if visited[i][j] == False:\n",
        "            dfs(i, j)\n",
        "            abnor_cnt += 1\n",
        "\n",
        "print(nor_cnt, abnor_cnt)\n"
      ],
      "metadata": {
        "colab": {
          "base_uri": "https://localhost:8080/"
        },
        "id": "RDJ4bCaRWEBd",
        "outputId": "ddcb88ad-bba0-4235-94b0-46390680afe8"
      },
      "execution_count": 13,
      "outputs": [
        {
          "output_type": "stream",
          "name": "stdout",
          "text": [
            "5\n",
            "RRBBB\n",
            "GGBBB\n",
            "BBBRR\n",
            "BBRRR\n",
            "RRRRR\n",
            "4 3\n"
          ]
        }
      ]
    }
  ]
}