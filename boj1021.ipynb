{
  "nbformat": 4,
  "nbformat_minor": 0,
  "metadata": {
    "colab": {
      "name": "boj1021.ipynb",
      "provenance": [],
      "authorship_tag": "ABX9TyNrvitEMWk32wv1bg++o+kZ",
      "include_colab_link": true
    },
    "kernelspec": {
      "name": "python3",
      "display_name": "Python 3"
    }
  },
  "cells": [
    {
      "cell_type": "markdown",
      "metadata": {
        "id": "view-in-github",
        "colab_type": "text"
      },
      "source": [
        "<a href=\"https://colab.research.google.com/github/bangse94/studyboj/blob/main/boj1021.ipynb\" target=\"_parent\"><img src=\"https://colab.research.google.com/assets/colab-badge.svg\" alt=\"Open In Colab\"/></a>"
      ]
    },
    {
      "cell_type": "markdown",
      "metadata": {
        "id": "CnpxvwaM-KiG"
      },
      "source": [
        "1021번 : 회전하는 큐"
      ]
    },
    {
      "cell_type": "code",
      "metadata": {
        "id": "ETn3rAsK99D3",
        "outputId": "79b4f65e-cba2-44ce-904e-034b6c5e7ff3",
        "colab": {
          "base_uri": "https://localhost:8080/",
          "height": 72
        }
      },
      "source": [
        "n, m = map(int, input().split())\n",
        "s = list(map(int ,input().split()))\n",
        "q = [i for i in range(1, n + 1)]\n",
        "cnt = 0\n",
        "for i in range(m):\n",
        "    q_len = len(q)\n",
        "    q_index = q.index(s[i])\n",
        "    if q_index < q_len - q_index:\n",
        "        while True:\n",
        "            if q[0] == s[i]:\n",
        "                del q[0]\n",
        "                break\n",
        "            else:\n",
        "                q.append(q[0])\n",
        "                del q[0]\n",
        "                cnt += 1\n",
        "    else:\n",
        "        while True:\n",
        "            if q[0] == s[i]:\n",
        "                del q[0]\n",
        "                break\n",
        "            else:\n",
        "                q.insert(0, q[-1])\n",
        "                del q[-1]\n",
        "                cnt += 1\n",
        "print(cnt)"
      ],
      "execution_count": 3,
      "outputs": [
        {
          "output_type": "stream",
          "text": [
            "10 3\n",
            "2 9 5\n",
            "8\n"
          ],
          "name": "stdout"
        }
      ]
    }
  ]
}