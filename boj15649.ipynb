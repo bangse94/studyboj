{
  "nbformat": 4,
  "nbformat_minor": 0,
  "metadata": {
    "colab": {
      "name": "boj15649.ipynb",
      "provenance": [],
      "authorship_tag": "ABX9TyNY1lTFekPEgEt6gP126pnp",
      "include_colab_link": true
    },
    "kernelspec": {
      "name": "python3",
      "display_name": "Python 3"
    }
  },
  "cells": [
    {
      "cell_type": "markdown",
      "metadata": {
        "id": "view-in-github",
        "colab_type": "text"
      },
      "source": [
        "<a href=\"https://colab.research.google.com/github/bangse94/studyboj/blob/main/boj15649.ipynb\" target=\"_parent\"><img src=\"https://colab.research.google.com/assets/colab-badge.svg\" alt=\"Open In Colab\"/></a>"
      ]
    },
    {
      "cell_type": "markdown",
      "metadata": {
        "id": "tTJnXvKhCnzR"
      },
      "source": [
        "15649번 : N과 M(1)"
      ]
    },
    {
      "cell_type": "code",
      "metadata": {
        "id": "yHdScHJQ_-5u",
        "outputId": "4038f7b6-6684-4ba8-dfed-f1486cffcdbf",
        "colab": {
          "base_uri": "https://localhost:8080/",
          "height": 472
        }
      },
      "source": [
        "N, M = map(int, input().split())\n",
        "num_list = [i + 1 for i in range(N)]\n",
        "visit = [False] * N\n",
        "\n",
        "res = []\n",
        "\n",
        "def dfs(cnt):\n",
        "    if cnt == M:\n",
        "        print(*res)\n",
        "        return\n",
        "    \n",
        "    for i in range(0, N):\n",
        "        if (visit[i]):\n",
        "            continue\n",
        "        \n",
        "        visit[i] = True\n",
        "        res.append(num_list[i])\n",
        "\n",
        "        dfs(cnt+1)\n",
        "\n",
        "        res.pop()\n",
        "        visit[i] = False\n",
        "\n",
        "dfs(0)"
      ],
      "execution_count": 12,
      "outputs": [
        {
          "output_type": "stream",
          "text": [
            "4 4\n",
            "1 2 3 4\n",
            "1 2 4 3\n",
            "1 3 2 4\n",
            "1 3 4 2\n",
            "1 4 2 3\n",
            "1 4 3 2\n",
            "2 1 3 4\n",
            "2 1 4 3\n",
            "2 3 1 4\n",
            "2 3 4 1\n",
            "2 4 1 3\n",
            "2 4 3 1\n",
            "3 1 2 4\n",
            "3 1 4 2\n",
            "3 2 1 4\n",
            "3 2 4 1\n",
            "3 4 1 2\n",
            "3 4 2 1\n",
            "4 1 2 3\n",
            "4 1 3 2\n",
            "4 2 1 3\n",
            "4 2 3 1\n",
            "4 3 1 2\n",
            "4 3 2 1\n"
          ],
          "name": "stdout"
        }
      ]
    }
  ]
}