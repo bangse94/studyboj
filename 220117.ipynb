{
  "nbformat": 4,
  "nbformat_minor": 0,
  "metadata": {
    "colab": {
      "name": "220117.ipynb",
      "provenance": [],
      "authorship_tag": "ABX9TyO1T6MymhDskvIHwsHw8Zo2",
      "include_colab_link": true
    },
    "kernelspec": {
      "name": "python3",
      "display_name": "Python 3"
    },
    "language_info": {
      "name": "python"
    }
  },
  "cells": [
    {
      "cell_type": "markdown",
      "metadata": {
        "id": "view-in-github",
        "colab_type": "text"
      },
      "source": [
        "<a href=\"https://colab.research.google.com/github/bangse94/studyboj/blob/main/220117.ipynb\" target=\"_parent\"><img src=\"https://colab.research.google.com/assets/colab-badge.svg\" alt=\"Open In Colab\"/></a>"
      ]
    },
    {
      "cell_type": "markdown",
      "source": [
        "BOJ 18870"
      ],
      "metadata": {
        "id": "3j2tOWl_wTh0"
      }
    },
    {
      "cell_type": "code",
      "execution_count": null,
      "metadata": {
        "colab": {
          "base_uri": "https://localhost:8080/"
        },
        "id": "Cd3hNHBgsSJq",
        "outputId": "4ab64df4-d776-4035-d0c3-51d55a32f4e7"
      },
      "outputs": [
        {
          "output_type": "stream",
          "name": "stdout",
          "text": [
            "5\n",
            "2 4 -10 4 -9\n",
            "2 3 0 3 1 "
          ]
        }
      ],
      "source": [
        "N = int(input())\n",
        "axList = list(map(int, input().split()))\n",
        "\n",
        "axList_sorted = sorted(list(set(axList)))\n",
        "\n",
        "dic = {axList_sorted[i]: i for i in range(len(axList_sorted))}\n",
        "\n",
        "for ax in axList:\n",
        "    print(dic[ax], end=' ')"
      ]
    },
    {
      "cell_type": "markdown",
      "source": [
        "BOJ 9184"
      ],
      "metadata": {
        "id": "ORZVA7S2wW7V"
      }
    },
    {
      "cell_type": "code",
      "source": [
        "solved = [[[0]*21 for _ in range(21)] for _ in range(21)]\n",
        "\n",
        "def w(x,y,z):\n",
        "    if x<=0 or y<=0 or z<= 0:\n",
        "        return 1\n",
        "    if x > 20 or y > 20 or z > 20:\n",
        "        return w(20,20,20)\n",
        "    if solved[x][y][z]:\n",
        "        return solved[x][y][z]\n",
        "    if x < y < z:\n",
        "        solved[x][y][z] = w(x, y, z-1) + w(x, y-1, z-1) - w(x, y-1, z)\n",
        "        return solved[x][y][z]\n",
        "    solved[x][y][z] = w(x-1, y, z) + w(x-1, y-1, z) + w(x-1, y, z-1) - w(x-1, y-1, z-1)\n",
        "    return solved[x][y][z]\n",
        "\n",
        "while True:\n",
        "    a, b, c = map(int, input().split())\n",
        "    if a == -1 and b == -1 and c == -1:\n",
        "        break;\n",
        "    print(f'w({a}, {b}, {c}) = {w(a,b,c)}')"
      ],
      "metadata": {
        "colab": {
          "base_uri": "https://localhost:8080/"
        },
        "id": "7ULlg1Ojwr-U",
        "outputId": "a12e9e0a-4c71-46ef-d5a9-9f3631a87971"
      },
      "execution_count": null,
      "outputs": [
        {
          "name": "stdout",
          "output_type": "stream",
          "text": [
            "-1 -1 -1\n"
          ]
        }
      ]
    },
    {
      "cell_type": "markdown",
      "source": [
        "BOJ 1012"
      ],
      "metadata": {
        "id": "r6EBMiQU8N7j"
      }
    },
    {
      "cell_type": "code",
      "source": [
        "from collections import deque\n",
        "\n",
        "dx = [0,0,1,-1]\n",
        "dy = [1,-1,0,0]\n",
        "\n",
        "T = int(input())\n",
        "\n",
        "def bfs(graph, a, b):\n",
        "    queue = deque()\n",
        "    queue.append((a,b))\n",
        "    graph[a][b] = 0\n",
        "\n",
        "    while queue:\n",
        "        x, y = queue.popleft()\n",
        "        for i in range(4):\n",
        "            nx = x + dx[i]\n",
        "            ny = y + dy[i]\n",
        "            if nx < 0 or nx >= N or ny < 0 or ny >= M:\n",
        "                continue\n",
        "            if graph[nx][ny] == 1:\n",
        "                graph[nx][ny] = 0\n",
        "                queue.append((nx,ny))\n",
        "    return\n",
        "\n",
        "for i in range(T):\n",
        "    cnt = 0\n",
        "    N, M, K = map(int, input().split())\n",
        "    graph = [[0]*M for _ in range(N)]\n",
        "\n",
        "    for j in range(K):\n",
        "        x, y = map(int, input().split())\n",
        "        graph[x][y] = 1\n",
        "\n",
        "    for a in range(N):\n",
        "        for b in range(M):\n",
        "            if graph[a][b] == 1:\n",
        "                bfs(graph, a, b)\n",
        "                cnt += 1\n",
        "    print(cnt)"
      ],
      "metadata": {
        "colab": {
          "base_uri": "https://localhost:8080/",
          "height": 531
        },
        "id": "SGs06rO-8Wo4",
        "outputId": "7c64ad07-b03b-4ea2-9fb8-5d5cc618b98f"
      },
      "execution_count": null,
      "outputs": [
        {
          "name": "stdout",
          "output_type": "stream",
          "text": [
            "2\n",
            "10 8 17\n",
            "0 0\n",
            "1 0\n",
            "1 1\n",
            "4 2\n",
            "4 3\n",
            "4 5\n",
            "2 4\n",
            "3 4\n",
            "7 4\n",
            "8 4\n",
            "9 4\n",
            "7 5\n",
            "8 6\n",
            "9 6\n",
            "10 10 1\n"
          ]
        },
        {
          "output_type": "error",
          "ename": "ValueError",
          "evalue": "ignored",
          "traceback": [
            "\u001b[0;31m---------------------------------------------------------------------------\u001b[0m",
            "\u001b[0;31mValueError\u001b[0m                                Traceback (most recent call last)",
            "\u001b[0;32m<ipython-input-7-a903416dd6a0>\u001b[0m in \u001b[0;36m<module>\u001b[0;34m()\u001b[0m\n\u001b[1;32m     29\u001b[0m \u001b[0;34m\u001b[0m\u001b[0m\n\u001b[1;32m     30\u001b[0m     \u001b[0;32mfor\u001b[0m \u001b[0mj\u001b[0m \u001b[0;32min\u001b[0m \u001b[0mrange\u001b[0m\u001b[0;34m(\u001b[0m\u001b[0mK\u001b[0m\u001b[0;34m)\u001b[0m\u001b[0;34m:\u001b[0m\u001b[0;34m\u001b[0m\u001b[0;34m\u001b[0m\u001b[0m\n\u001b[0;32m---> 31\u001b[0;31m         \u001b[0mx\u001b[0m\u001b[0;34m,\u001b[0m \u001b[0my\u001b[0m \u001b[0;34m=\u001b[0m \u001b[0mmap\u001b[0m\u001b[0;34m(\u001b[0m\u001b[0mint\u001b[0m\u001b[0;34m,\u001b[0m \u001b[0minput\u001b[0m\u001b[0;34m(\u001b[0m\u001b[0;34m)\u001b[0m\u001b[0;34m.\u001b[0m\u001b[0msplit\u001b[0m\u001b[0;34m(\u001b[0m\u001b[0;34m)\u001b[0m\u001b[0;34m)\u001b[0m\u001b[0;34m\u001b[0m\u001b[0;34m\u001b[0m\u001b[0m\n\u001b[0m\u001b[1;32m     32\u001b[0m         \u001b[0mgraph\u001b[0m\u001b[0;34m[\u001b[0m\u001b[0mx\u001b[0m\u001b[0;34m]\u001b[0m\u001b[0;34m[\u001b[0m\u001b[0my\u001b[0m\u001b[0;34m]\u001b[0m \u001b[0;34m=\u001b[0m \u001b[0;36m1\u001b[0m\u001b[0;34m\u001b[0m\u001b[0;34m\u001b[0m\u001b[0m\n\u001b[1;32m     33\u001b[0m \u001b[0;34m\u001b[0m\u001b[0m\n",
            "\u001b[0;31mValueError\u001b[0m: too many values to unpack (expected 2)"
          ]
        }
      ]
    }
  ]
}