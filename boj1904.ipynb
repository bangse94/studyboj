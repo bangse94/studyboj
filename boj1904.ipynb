{
  "nbformat": 4,
  "nbformat_minor": 0,
  "metadata": {
    "colab": {
      "name": "boj1904.ipynb",
      "provenance": [],
      "authorship_tag": "ABX9TyPWL2xwL4+XtrjvCAHc6fda",
      "include_colab_link": true
    },
    "kernelspec": {
      "name": "python3",
      "display_name": "Python 3"
    }
  },
  "cells": [
    {
      "cell_type": "markdown",
      "metadata": {
        "id": "view-in-github",
        "colab_type": "text"
      },
      "source": [
        "<a href=\"https://colab.research.google.com/github/bangse94/studyboj/blob/main/boj1904.ipynb\" target=\"_parent\"><img src=\"https://colab.research.google.com/assets/colab-badge.svg\" alt=\"Open In Colab\"/></a>"
      ]
    },
    {
      "cell_type": "markdown",
      "metadata": {
        "id": "XmgneqDmaZNy"
      },
      "source": [
        "1904번: 01타일"
      ]
    },
    {
      "cell_type": "code",
      "metadata": {
        "id": "oJZGBtPnZ-vF",
        "outputId": "53195201-44e1-4102-f0ba-380a7e92768d",
        "colab": {
          "base_uri": "https://localhost:8080/",
          "height": 53
        }
      },
      "source": [
        "N = int(input())\n",
        "res = [0]*1000001\n",
        "res[1] = 1\n",
        "res[2] = 2\n",
        "\n",
        "for i in range(3, N+1):\n",
        "    res[i] = (res[i-1] + res[i-2])%15746\n",
        "print(res[N])"
      ],
      "execution_count": 7,
      "outputs": [
        {
          "output_type": "stream",
          "text": [
            "4\n",
            "5\n"
          ],
          "name": "stdout"
        }
      ]
    }
  ]
}