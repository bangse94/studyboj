{
  "nbformat": 4,
  "nbformat_minor": 0,
  "metadata": {
    "colab": {
      "name": "boj9020.ipynb",
      "provenance": [],
      "collapsed_sections": [],
      "authorship_tag": "ABX9TyMEwukYfnHY2lVMWrYBNT1v",
      "include_colab_link": true
    },
    "kernelspec": {
      "name": "python3",
      "display_name": "Python 3"
    }
  },
  "cells": [
    {
      "cell_type": "markdown",
      "metadata": {
        "id": "view-in-github",
        "colab_type": "text"
      },
      "source": [
        "<a href=\"https://colab.research.google.com/github/bangse94/studyboj/blob/main/boj9020.ipynb\" target=\"_parent\"><img src=\"https://colab.research.google.com/assets/colab-badge.svg\" alt=\"Open In Colab\"/></a>"
      ]
    },
    {
      "cell_type": "code",
      "metadata": {
        "id": "Yj6FOOP59BxP",
        "outputId": "f4832b45-8b4e-4f61-ffcf-46509b977a53",
        "colab": {
          "base_uri": "https://localhost:8080/"
        }
      },
      "source": [
        "sosu = [False for i in range(10001)]\n",
        "sosu[1] = True\n",
        "for i in range(2, 98):\n",
        "    for j in range(i * 2, 10001, i):\n",
        "        sosu[j] = True\n",
        "\n",
        "T = int(input())\n",
        "\n",
        "for _ in range(T):\n",
        "    n = int(input())\n",
        "    mid = n//2\n",
        "    for i in range(mid, 1, -1):\n",
        "        if sosu[n - i] == False and sosu[i] == False:\n",
        "            print(i, n - i)\n",
        "            break"
      ],
      "execution_count": 4,
      "outputs": [
        {
          "output_type": "stream",
          "text": [
            "3\n",
            "8\n",
            "3 5\n",
            "10\n",
            "5 5\n",
            "16\n",
            "5 11\n"
          ],
          "name": "stdout"
        }
      ]
    }
  ]
}