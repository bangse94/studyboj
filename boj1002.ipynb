{
  "nbformat": 4,
  "nbformat_minor": 0,
  "metadata": {
    "colab": {
      "name": "boj1002.ipynb",
      "provenance": [],
      "collapsed_sections": [],
      "authorship_tag": "ABX9TyNQ0V9WreOf+BJOU1wHFqfo",
      "include_colab_link": true
    },
    "kernelspec": {
      "name": "python3",
      "display_name": "Python 3"
    }
  },
  "cells": [
    {
      "cell_type": "markdown",
      "metadata": {
        "id": "view-in-github",
        "colab_type": "text"
      },
      "source": [
        "<a href=\"https://colab.research.google.com/github/bangse94/studyboj/blob/main/boj1002.ipynb\" target=\"_parent\"><img src=\"https://colab.research.google.com/assets/colab-badge.svg\" alt=\"Open In Colab\"/></a>"
      ]
    },
    {
      "cell_type": "markdown",
      "metadata": {
        "id": "hwFtZuX1Io0g"
      },
      "source": [
        "1002번 : 터렛"
      ]
    },
    {
      "cell_type": "code",
      "metadata": {
        "id": "Yj6FOOP59BxP",
        "outputId": "2cb82b58-c13b-4896-cb40-fc2ab7d44a93",
        "colab": {
          "base_uri": "https://localhost:8080/"
        }
      },
      "source": [
        "T = int(input())\n",
        "\n",
        "for _ in range(T):\n",
        "    x1, y1, r1, x2, y2, r2 = map(int, input().split())\n",
        "    dist = ((x2 - x1)**2 + (y2 - y1)**2)*0.5\n",
        "    rs = r1 + r2\n",
        "    rm = abs(r1- r2)\n",
        "    if dist == 0:\n",
        "        if r1 == r2:\n",
        "            print(-1)\n",
        "        else:\n",
        "            print(0)\n",
        "    else:\n",
        "        if dist == rs or dist == rm:\n",
        "            print(1)\n",
        "        elif dist < rs and dist > rm:\n",
        "            print(2)\n",
        "        else:\n",
        "            print(0)"
      ],
      "execution_count": 18,
      "outputs": [
        {
          "output_type": "stream",
          "text": [
            "10\n",
            "3628800\n"
          ],
          "name": "stdout"
        }
      ]
    }
  ]
}