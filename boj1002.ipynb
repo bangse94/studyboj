{
  "nbformat": 4,
  "nbformat_minor": 0,
  "metadata": {
    "colab": {
      "name": "boj1002.ipynb",
      "provenance": [],
      "collapsed_sections": [],
      "authorship_tag": "ABX9TyMI4Jp1iTqNta+4Phh9MYFo",
      "include_colab_link": true
    },
    "kernelspec": {
      "name": "python3",
      "display_name": "Python 3"
    }
  },
  "cells": [
    {
      "cell_type": "markdown",
      "metadata": {
        "id": "view-in-github",
        "colab_type": "text"
      },
      "source": [
        "<a href=\"https://colab.research.google.com/github/bangse94/studyboj/blob/main/boj1002.ipynb\" target=\"_parent\"><img src=\"https://colab.research.google.com/assets/colab-badge.svg\" alt=\"Open In Colab\"/></a>"
      ]
    },
    {
      "cell_type": "markdown",
      "metadata": {
        "id": "hwFtZuX1Io0g"
      },
      "source": [
        "1002번 : 터렛"
      ]
    },
    {
      "cell_type": "code",
      "metadata": {
        "id": "Yj6FOOP59BxP",
        "outputId": "01d89ac8-8623-4470-8e72-ec537950ecd2",
        "colab": {
          "base_uri": "https://localhost:8080/"
        }
      },
      "source": [
        "T = int(input())\n",
        "\n",
        "for _ in range(T):\n",
        "    x1, y1, r1, x2, y2, r2 = map(int, input().split())\n",
        "    dist = ((x2 - x1)**2 + (y2 - y1)**2)**0.5\n",
        "    rs = r1 + r2\n",
        "    rm = abs(r1- r2)\n",
        "    if dist == 0:\n",
        "        if r1 == r2:\n",
        "            print(-1)\n",
        "        else:\n",
        "            print(0)\n",
        "    else:\n",
        "        if dist == rs or dist == rm:\n",
        "            print(1)\n",
        "        elif dist < rs and dist > rm:\n",
        "            print(2)\n",
        "        else:\n",
        "            print(0)"
      ],
      "execution_count": 13,
      "outputs": [
        {
          "output_type": "stream",
          "text": [
            "3\n",
            "0 0 13 40 0 37\n",
            "2\n",
            "0 0 3 0 7 4\n",
            "1\n",
            "1 1 1 1 1 5\n",
            "0\n"
          ],
          "name": "stdout"
        }
      ]
    }
  ]
}