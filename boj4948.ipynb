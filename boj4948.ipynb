{
  "nbformat": 4,
  "nbformat_minor": 0,
  "metadata": {
    "colab": {
      "name": "boj4948.ipynb",
      "provenance": [],
      "collapsed_sections": [],
      "authorship_tag": "ABX9TyNlkI+TAWqOwmw4g17qHoWb",
      "include_colab_link": true
    },
    "kernelspec": {
      "name": "python3",
      "display_name": "Python 3"
    }
  },
  "cells": [
    {
      "cell_type": "markdown",
      "metadata": {
        "id": "view-in-github",
        "colab_type": "text"
      },
      "source": [
        "<a href=\"https://colab.research.google.com/github/bangse94/studyboj/blob/main/boj4948.ipynb\" target=\"_parent\"><img src=\"https://colab.research.google.com/assets/colab-badge.svg\" alt=\"Open In Colab\"/></a>"
      ]
    },
    {
      "cell_type": "code",
      "metadata": {
        "id": "Yj6FOOP59BxP",
        "outputId": "6140737e-3b1b-4bc3-8eca-5bad54c93103",
        "colab": {
          "base_uri": "https://localhost:8080/"
        }
      },
      "source": [
        "N = 123456 * 2 + 1\n",
        "s = [True] * N\n",
        "for i in range(2, int(N**0.5) + 1):\n",
        "    if s[i]:\n",
        "        for j in range(2*i, N, i):\n",
        "            s[j] = False\n",
        "\n",
        "def Prime_cnt(n):\n",
        "    cnt = 0\n",
        "    for i in range(n + 1, n*2 + 1):\n",
        "        if s[i]:\n",
        "            cnt += 1\n",
        "    return cnt\n",
        "while True:\n",
        "    n = int(input())\n",
        "    if n == 0:\n",
        "        break\n",
        "    print(Prime_cnt(n))"
      ],
      "execution_count": 2,
      "outputs": [
        {
          "output_type": "stream",
          "text": [
            "1\n",
            "1\n",
            "10\n",
            "4\n",
            "100\n",
            "21\n",
            "1000\n",
            "135\n",
            "10000\n",
            "1033\n",
            "100000\n",
            "8392\n",
            "0\n"
          ],
          "name": "stdout"
        }
      ]
    }
  ]
}