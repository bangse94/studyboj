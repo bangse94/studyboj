{
  "nbformat": 4,
  "nbformat_minor": 0,
  "metadata": {
    "colab": {
      "name": "Untitled26.ipynb",
      "provenance": [],
      "collapsed_sections": [],
      "authorship_tag": "ABX9TyOSJZiynmbu3cOo1OuPqnc8",
      "include_colab_link": true
    },
    "kernelspec": {
      "name": "python3",
      "display_name": "Python 3"
    },
    "language_info": {
      "name": "python"
    },
    "gpuClass": "standard"
  },
  "cells": [
    {
      "cell_type": "markdown",
      "metadata": {
        "id": "view-in-github",
        "colab_type": "text"
      },
      "source": [
        "<a href=\"https://colab.research.google.com/github/bangse94/studyboj/blob/main/Untitled26.ipynb\" target=\"_parent\"><img src=\"https://colab.research.google.com/assets/colab-badge.svg\" alt=\"Open In Colab\"/></a>"
      ]
    },
    {
      "cell_type": "markdown",
      "source": [
        "BOJ 2440"
      ],
      "metadata": {
        "id": "FlD_A_AsnQSX"
      }
    },
    {
      "cell_type": "code",
      "source": [
        "N = int(input())\n",
        "\n",
        "for i in range(N):\n",
        "    print(\"*\"*(N-i))"
      ],
      "metadata": {
        "colab": {
          "base_uri": "https://localhost:8080/"
        },
        "id": "KgkWvpmAnNRh",
        "outputId": "718f7b07-fa99-4e0b-9f65-6a1b4e77e424"
      },
      "execution_count": 2,
      "outputs": [
        {
          "output_type": "stream",
          "name": "stdout",
          "text": [
            "5\n",
            "*****\n",
            "****\n",
            "***\n",
            "**\n",
            "*\n"
          ]
        }
      ]
    },
    {
      "cell_type": "markdown",
      "source": [
        "BOJ 2241"
      ],
      "metadata": {
        "id": "QP5e1cvopGdU"
      }
    },
    {
      "cell_type": "code",
      "source": [
        "N = int(input())\n",
        "\n",
        "for i in range(0,N):\n",
        "    print(\" \"*i+\"*\"*(N-i))"
      ],
      "metadata": {
        "colab": {
          "base_uri": "https://localhost:8080/"
        },
        "id": "4pSk3ayIpDvh",
        "outputId": "fd484036-7e99-409d-9371-1b5c994b55b5"
      },
      "execution_count": 14,
      "outputs": [
        {
          "output_type": "stream",
          "name": "stdout",
          "text": [
            "5\n",
            "*****\n",
            " ****\n",
            "  ***\n",
            "   **\n",
            "    *\n"
          ]
        }
      ]
    },
    {
      "cell_type": "markdown",
      "source": [
        "BOJ 11718"
      ],
      "metadata": {
        "id": "sqlRPm0_q2Qi"
      }
    },
    {
      "cell_type": "code",
      "source": [
        "while True:\n",
        "    try:\n",
        "        print(input())\n",
        "    except EOFError:\n",
        "        break"
      ],
      "metadata": {
        "id": "c8hfT7Utq2rx"
      },
      "execution_count": null,
      "outputs": []
    },
    {
      "cell_type": "markdown",
      "source": [
        "BOJ 1924"
      ],
      "metadata": {
        "id": "XVqpU7oYtTqR"
      }
    },
    {
      "cell_type": "code",
      "source": [
        "A = ['SUN', 'MON', 'TUE', 'WED', 'THU', 'FRI', 'SAT']\n",
        "B = [31, 28, 31, 30, 31, 30, 31, 31, 30, 31, 30, 31]\n",
        "\n",
        "x, y = map(int, input().split())\n",
        "day = 0\n",
        "for i in range(0, x-1):\n",
        "    day += B[i]\n",
        "\n",
        "day = (day+y)%7\n",
        "\n",
        "print(A[day])"
      ],
      "metadata": {
        "colab": {
          "base_uri": "https://localhost:8080/"
        },
        "id": "eCOPNruZsA2M",
        "outputId": "bbffaf52-e4ab-4af8-f871-85a686461481"
      },
      "execution_count": 5,
      "outputs": [
        {
          "output_type": "stream",
          "name": "stdout",
          "text": [
            "9 2\n",
            "SUN\n"
          ]
        }
      ]
    },
    {
      "cell_type": "markdown",
      "source": [
        "BOJ 10699"
      ],
      "metadata": {
        "id": "8BESR5c1Ty3S"
      }
    },
    {
      "cell_type": "code",
      "source": [
        "import datetime\n",
        "print(str(datetime.datetime.now())[:10])"
      ],
      "metadata": {
        "colab": {
          "base_uri": "https://localhost:8080/"
        },
        "id": "f1yYmszST04H",
        "outputId": "35a17c8b-ecf8-4134-e482-bc7a50d0c633"
      },
      "execution_count": 1,
      "outputs": [
        {
          "output_type": "stream",
          "name": "stdout",
          "text": [
            "2022-06-23\n"
          ]
        }
      ]
    },
    {
      "cell_type": "markdown",
      "source": [
        "BOJ 7287"
      ],
      "metadata": {
        "id": "lyn5qbFHUkcg"
      }
    },
    {
      "cell_type": "code",
      "source": [
        "print('157\\ntpwns73')"
      ],
      "metadata": {
        "colab": {
          "base_uri": "https://localhost:8080/"
        },
        "id": "qjuUzFWqUmXI",
        "outputId": "b391e012-ea6e-4c2a-e9f3-66143e5a123e"
      },
      "execution_count": 4,
      "outputs": [
        {
          "output_type": "stream",
          "name": "stdout",
          "text": [
            "157\n",
            "tpwns73\n"
          ]
        }
      ]
    },
    {
      "cell_type": "markdown",
      "source": [
        "BOJ 25083"
      ],
      "metadata": {
        "id": "xNH82srWU9Hp"
      }
    },
    {
      "cell_type": "code",
      "source": [
        "print('         ,r\\'\"7')\n",
        "print('r`-_   ,\\'  ,/')\n",
        "print(' \\. \". L_r\\'')\n",
        "print('   `~\\\\/')\n",
        "print('      |')\n",
        "print('      |')"
      ],
      "metadata": {
        "colab": {
          "base_uri": "https://localhost:8080/"
        },
        "id": "6hRQH9WiU8vE",
        "outputId": "cf2c7355-68e3-4750-d015-cddb9061e455"
      },
      "execution_count": 9,
      "outputs": [
        {
          "output_type": "stream",
          "name": "stdout",
          "text": [
            "         ,r'\"7\n",
            "r`-_   ,'  ,/\n",
            " \\. \". L_r'\n",
            "   `~\\/\n",
            "      |\n",
            "      |\n"
          ]
        }
      ]
    },
    {
      "cell_type": "markdown",
      "source": [
        "BOJ 11382"
      ],
      "metadata": {
        "id": "1IfTTgrKVmCu"
      }
    },
    {
      "cell_type": "code",
      "source": [
        "nums = map(int, input().split())\n",
        "\n",
        "print(sum(nums))"
      ],
      "metadata": {
        "colab": {
          "base_uri": "https://localhost:8080/"
        },
        "id": "-u7jItknVn1w",
        "outputId": "ef33491d-4074-40fa-d3a9-ff93743377de"
      },
      "execution_count": 10,
      "outputs": [
        {
          "output_type": "stream",
          "name": "stdout",
          "text": [
            "77 77 7777\n",
            "7931\n"
          ]
        }
      ]
    },
    {
      "cell_type": "markdown",
      "source": [
        "BOJ 2420"
      ],
      "metadata": {
        "id": "odTccGAHWP4o"
      }
    },
    {
      "cell_type": "code",
      "source": [
        "N, M = map(int, input().split())\n",
        "print(abs(N-M))"
      ],
      "metadata": {
        "colab": {
          "base_uri": "https://localhost:8080/"
        },
        "id": "Js97SNWFWRko",
        "outputId": "7bd5c592-df70-467a-dee4-9b90556d1d41"
      },
      "execution_count": 11,
      "outputs": [
        {
          "output_type": "stream",
          "name": "stdout",
          "text": [
            "-2 5\n",
            "7\n"
          ]
        }
      ]
    },
    {
      "cell_type": "markdown",
      "source": [
        "BOJ 10807"
      ],
      "metadata": {
        "id": "6lRO-0wBWfNn"
      }
    },
    {
      "cell_type": "code",
      "source": [
        "N = int(input())\n",
        "nums = map(int, input().split())\n",
        "v = int(input())\n",
        "cnt = 0\n",
        "\n",
        "for num in nums:\n",
        "    if num == v:\n",
        "        cnt+=1\n",
        "\n",
        "print(cnt)"
      ],
      "metadata": {
        "colab": {
          "base_uri": "https://localhost:8080/"
        },
        "id": "D3VXdx9cWgml",
        "outputId": "b3567c64-37d4-4eba-fe21-f398d8ef796e"
      },
      "execution_count": 12,
      "outputs": [
        {
          "output_type": "stream",
          "name": "stdout",
          "text": [
            "11\n",
            "1 4 1 2 4 2 4 2 3 4 4\n",
            "2\n",
            "3\n"
          ]
        }
      ]
    },
    {
      "cell_type": "markdown",
      "source": [
        "BOJ 5597"
      ],
      "metadata": {
        "id": "RwNgIHSXYG9e"
      }
    },
    {
      "cell_type": "code",
      "source": [
        "pupils = [i for i in range(1,31)];\n",
        "\n",
        "for _ in range(len(pupils)-2):\n",
        "    num = int(input())\n",
        "    pupils.remove(num)\n",
        "\n",
        "print(min(pupils))\n",
        "print(max(pupils))"
      ],
      "metadata": {
        "colab": {
          "base_uri": "https://localhost:8080/"
        },
        "id": "LPQqIKcAYIV2",
        "outputId": "7529cf20-b685-4cce-bad9-79dc58543e62"
      },
      "execution_count": 21,
      "outputs": [
        {
          "output_type": "stream",
          "name": "stdout",
          "text": [
            "9\n",
            "30\n",
            "6\n",
            "12\n",
            "10\n",
            "20\n",
            "21\n",
            "11\n",
            "7\n",
            "5\n",
            "28\n",
            "4\n",
            "18\n",
            "29\n",
            "17\n",
            "19\n",
            "27\n",
            "13\n",
            "16\n",
            "26\n",
            "14\n",
            "23\n",
            "22\n",
            "15\n",
            "3\n",
            "1\n",
            "24\n",
            "25\n",
            "2\n",
            "8\n"
          ]
        }
      ]
    },
    {
      "cell_type": "markdown",
      "source": [
        "BOJ 2738"
      ],
      "metadata": {
        "id": "NV6ggJwpckVJ"
      }
    },
    {
      "cell_type": "code",
      "source": [
        "N, M = map(int, input().split())\n",
        "A, B = [], []\n",
        "\n",
        "for i in [A,B]:\n",
        "    for j in range(N):\n",
        "        i.append(list(map(int, input().split())))\n",
        "\n",
        "for i in range(N):\n",
        "    for j in range(M):\n",
        "        A[i][j] += B[i][j]\n",
        "    print(*A[i])"
      ],
      "metadata": {
        "colab": {
          "base_uri": "https://localhost:8080/"
        },
        "id": "WlkvxGticlqu",
        "outputId": "29e96e3b-0703-4d2e-d5ca-a8c6a8b205f5"
      },
      "execution_count": 23,
      "outputs": [
        {
          "output_type": "stream",
          "name": "stdout",
          "text": [
            "3 3\n",
            "1 1 1\n",
            "2 2 2\n",
            "0 1 0\n",
            "3 3 3\n",
            "4 4 4\n",
            "5 5 100\n",
            "4 4 4\n",
            "6 6 6\n",
            "5 6 100\n"
          ]
        }
      ]
    },
    {
      "cell_type": "markdown",
      "source": [
        "BOJ 2743"
      ],
      "metadata": {
        "id": "yZdIuMeWf0gw"
      }
    },
    {
      "cell_type": "code",
      "source": [
        "print(len(str(input())))"
      ],
      "metadata": {
        "colab": {
          "base_uri": "https://localhost:8080/"
        },
        "id": "Spf3stFkf2WI",
        "outputId": "5d63cffe-a412-4061-8afd-ba90a875bc7d"
      },
      "execution_count": 24,
      "outputs": [
        {
          "output_type": "stream",
          "name": "stdout",
          "text": [
            "pulljima\n",
            "8\n"
          ]
        }
      ]
    },
    {
      "cell_type": "markdown",
      "source": [
        "BOJ 2744"
      ],
      "metadata": {
        "id": "wTd2NcpcgIyJ"
      }
    },
    {
      "cell_type": "code",
      "source": [
        "strings = str(input())\n",
        "answer = ''\n",
        "for c in strings:\n",
        "    if c.isupper():\n",
        "        answer = answer + c.lower()\n",
        "    else:\n",
        "        answer = answer + c.upper()\n",
        "\n",
        "print(answer)"
      ],
      "metadata": {
        "colab": {
          "base_uri": "https://localhost:8080/"
        },
        "id": "-8XZqChngKud",
        "outputId": "7fb2fb15-2d4b-44ad-9d9c-105efd3722f0"
      },
      "execution_count": 32,
      "outputs": [
        {
          "output_type": "stream",
          "name": "stdout",
          "text": [
            "WrongAnswer\n",
            "wRONGaNSWER\n"
          ]
        }
      ]
    },
    {
      "cell_type": "markdown",
      "source": [
        "BOJ 2754"
      ],
      "metadata": {
        "id": "_ZoYPrC_hmw-"
      }
    },
    {
      "cell_type": "code",
      "source": [
        "dic = {'A+' : 4.3, 'A0' : 4.0, 'A-' : 3.7, 'B+' : 3.3, 'B0': 3.0, 'B-' : 2.7, 'C+' : 2.3, 'C0' : 2.0, 'C-' : 1.7, 'D+' : 1.3, 'D0' : 1.0, 'D-' : 0.7, 'F': 0.0}\n",
        "\n",
        "grade = str(input())\n",
        "print(dic[grade])"
      ],
      "metadata": {
        "colab": {
          "base_uri": "https://localhost:8080/"
        },
        "id": "Pt-E3U8phoe_",
        "outputId": "442c49d6-e80d-4b6a-aadb-5d4d83fd79fd"
      },
      "execution_count": 33,
      "outputs": [
        {
          "output_type": "stream",
          "name": "stdout",
          "text": [
            "A0\n",
            "4.0\n"
          ]
        }
      ]
    },
    {
      "cell_type": "markdown",
      "source": [
        "BOJ 9086"
      ],
      "metadata": {
        "id": "d8BusMHWi73f"
      }
    },
    {
      "cell_type": "code",
      "source": [
        "T = int(input())\n",
        "answer = []\n",
        "for _ in range(T):\n",
        "    char = str(input())\n",
        "    answer.append(char[0] + char[-1])\n",
        "\n",
        "for ans in answer:\n",
        "    print(ans)"
      ],
      "metadata": {
        "colab": {
          "base_uri": "https://localhost:8080/"
        },
        "id": "QCIY-OEajAVn",
        "outputId": "982f2784-de7e-4602-8335-2ea9f415f5dc"
      },
      "execution_count": 34,
      "outputs": [
        {
          "output_type": "stream",
          "name": "stdout",
          "text": [
            "3\n",
            "ACDKJFOWIEGHE\n",
            "O\n",
            "AB\n",
            "AE\n",
            "OO\n",
            "AB\n"
          ]
        }
      ]
    },
    {
      "cell_type": "markdown",
      "source": [
        "BOJ 23037"
      ],
      "metadata": {
        "id": "B53QZTVXjxCN"
      }
    },
    {
      "cell_type": "code",
      "source": [
        "n = str(input())\n",
        "answer = 0\n",
        "for num in n:\n",
        "    answer += pow(int(num), 5)\n",
        "\n",
        "print(answer)"
      ],
      "metadata": {
        "colab": {
          "base_uri": "https://localhost:8080/"
        },
        "id": "ZjQoG6gMjyPd",
        "outputId": "e986bb1c-b026-4360-df1e-17070c4258cb"
      },
      "execution_count": 41,
      "outputs": [
        {
          "output_type": "stream",
          "name": "stdout",
          "text": [
            "12345\n",
            "4425\n"
          ]
        }
      ]
    }
  ]
}