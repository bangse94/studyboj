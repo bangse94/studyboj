{
  "nbformat": 4,
  "nbformat_minor": 0,
  "metadata": {
    "colab": {
      "name": "220720.ipynb",
      "provenance": [],
      "collapsed_sections": [],
      "authorship_tag": "ABX9TyNaoLmx8ViwGuza8zt4q3v0",
      "include_colab_link": true
    },
    "kernelspec": {
      "name": "python3",
      "display_name": "Python 3"
    },
    "language_info": {
      "name": "python"
    }
  },
  "cells": [
    {
      "cell_type": "markdown",
      "metadata": {
        "id": "view-in-github",
        "colab_type": "text"
      },
      "source": [
        "<a href=\"https://colab.research.google.com/github/bangse94/studyboj/blob/main/220720.ipynb\" target=\"_parent\"><img src=\"https://colab.research.google.com/assets/colab-badge.svg\" alt=\"Open In Colab\"/></a>"
      ]
    },
    {
      "cell_type": "markdown",
      "source": [
        "BOJ 2606"
      ],
      "metadata": {
        "id": "EAgJ5AWwEYVt"
      }
    },
    {
      "cell_type": "code",
      "execution_count": 2,
      "metadata": {
        "colab": {
          "base_uri": "https://localhost:8080/"
        },
        "id": "xriYoVVu7V6d",
        "outputId": "50f3bf7f-a520-450f-a8c5-f6d84fac1abb"
      },
      "outputs": [
        {
          "output_type": "stream",
          "name": "stdout",
          "text": [
            "7\n",
            "6\n",
            "1 2\n",
            "2 3\n",
            "1 5\n",
            "5 2\n",
            "5 6\n",
            "4 7\n",
            "4\n"
          ]
        }
      ],
      "source": [
        "N = int(input())\n",
        "M = int(input())\n",
        "\n",
        "graph = [[]*N for _ in range(N+1)]\n",
        "visited = [False]*(N+1)\n",
        "for _ in range(M):\n",
        "    a, b = map(int, input().split())\n",
        "    graph[a].append(b)\n",
        "    if a not in graph[b]:\n",
        "        graph[b].append(a)\n",
        "\n",
        "def dfs(now):\n",
        "    visited[now] = True\n",
        "    for i in graph[now]:\n",
        "        if not visited[i]:\n",
        "            dfs(i)\n",
        "\n",
        "dfs(1)\n",
        "\n",
        "count = -1\n",
        "for i in visited:\n",
        "    if i:\n",
        "        count+=1\n",
        "print(count)"
      ]
    },
    {
      "cell_type": "markdown",
      "source": [
        "BOJ 9095"
      ],
      "metadata": {
        "id": "yMaW_xDGF6oU"
      }
    },
    {
      "cell_type": "code",
      "source": [
        "T = int(input())\n",
        "\n",
        "def dfs(num):\n",
        "    if arr[num] > 0:\n",
        "        return arr[num]\n",
        "    if num == 1:\n",
        "        return 1\n",
        "    elif num == 2:\n",
        "        return 2\n",
        "    elif num == 3:\n",
        "        return 4\n",
        "    else:\n",
        "        arr[num] = dfs(num-1) + dfs(num-2) + dfs(num-3)\n",
        "        return arr[num]\n",
        "\n",
        "for _ in range(T):\n",
        "    n = int(input())\n",
        "    arr = [0]*(n+1)\n",
        "    print(dfs(n))\n"
      ],
      "metadata": {
        "colab": {
          "base_uri": "https://localhost:8080/"
        },
        "id": "JIlDWlfsF8n8",
        "outputId": "ba720976-6a85-4051-8e3f-4ea2c68e64eb"
      },
      "execution_count": 3,
      "outputs": [
        {
          "output_type": "stream",
          "name": "stdout",
          "text": [
            "3\n",
            "4\n",
            "7\n",
            "7\n",
            "44\n",
            "10\n",
            "274\n"
          ]
        }
      ]
    },
    {
      "cell_type": "markdown",
      "source": [
        "BOJ 9375"
      ],
      "metadata": {
        "id": "Q68W9_ULIUoL"
      }
    },
    {
      "cell_type": "code",
      "source": [
        "from collections import Counter\n",
        "\n",
        "T = int(input())\n",
        "\n",
        "for i in range(T):\n",
        "    n = int(input())\n",
        "    wear = []\n",
        "    for j in range(n):\n",
        "        a, b = input().split()\n",
        "        wear.append(b)\n",
        "    \n",
        "    wear_Counter = Counter(wear)\n",
        "    cnt = 1\n",
        "\n",
        "    for key in wear_Counter:\n",
        "        cnt *= wear_Counter[key] + 1\n",
        "    print(cnt -1)"
      ],
      "metadata": {
        "colab": {
          "base_uri": "https://localhost:8080/"
        },
        "id": "UkIhcpyHIWJi",
        "outputId": "38e58e5b-f2fc-4986-873a-371f01500d62"
      },
      "execution_count": 7,
      "outputs": [
        {
          "output_type": "stream",
          "name": "stdout",
          "text": [
            "2\n",
            "3\n",
            "hat headgear\n",
            "sunglass eyewear\n",
            "turban headgear\n",
            "5\n",
            "3\n",
            "mask face\n",
            "sunglass face\n",
            "makeup face\n",
            "0\n"
          ]
        }
      ]
    },
    {
      "cell_type": "markdown",
      "source": [
        "BOJ11659"
      ],
      "metadata": {
        "id": "unBz8h4FBsPz"
      }
    },
    {
      "cell_type": "code",
      "source": [
        "N, M = map(int, input().split())\n",
        "arr = list(map(int, input().split()))\n",
        "\n",
        "prefix_sum = [0]\n",
        "temp = 0\n",
        "\n",
        "for num in arr:\n",
        "    temp += num\n",
        "    prefix_sum.append(temp)\n",
        "\n",
        "for _ in range(M):\n",
        "    i, j = map(int, input().split())\n",
        "    print(prefix_sum[j] - prefix_sum[i-1])"
      ],
      "metadata": {
        "colab": {
          "base_uri": "https://localhost:8080/"
        },
        "id": "8P9eBApEBt1Z",
        "outputId": "7044d785-ad73-4b42-d52d-530226592259"
      },
      "execution_count": 1,
      "outputs": [
        {
          "output_type": "stream",
          "name": "stdout",
          "text": [
            "5 3\n",
            "5 4 3 2 1\n",
            "1 3\n",
            "12\n",
            "2 4\n",
            "9\n",
            "5 5\n",
            "1\n"
          ]
        }
      ]
    },
    {
      "cell_type": "markdown",
      "source": [
        "BOJ 11726"
      ],
      "metadata": {
        "id": "pV3ybb5MFH-j"
      }
    },
    {
      "cell_type": "code",
      "source": [
        "n = int(input())\n",
        "\n",
        "dp = [0, 1, 2]\n",
        "\n",
        "for i in range(3, n+1):\n",
        "    dp.append(dp[i-2] + dp[i-1])\n",
        "\n",
        "print(dp[n]%10007)"
      ],
      "metadata": {
        "colab": {
          "base_uri": "https://localhost:8080/"
        },
        "id": "l5YPh8hHFKVZ",
        "outputId": "66bb5493-a5fe-4d28-c2de-12a9a5b7ca27"
      },
      "execution_count": 5,
      "outputs": [
        {
          "output_type": "stream",
          "name": "stdout",
          "text": [
            "9\n",
            "55\n"
          ]
        }
      ]
    },
    {
      "cell_type": "markdown",
      "source": [
        "BOJ 11727"
      ],
      "metadata": {
        "id": "JddCzANHHYMT"
      }
    },
    {
      "cell_type": "code",
      "source": [
        "n = int(input())\n",
        "\n",
        "dp = [0, 1, 3, 5, 11]\n",
        "\n",
        "for i in range(5, 1001):\n",
        "    dp.append(dp[i-1] + dp[i-2]*2)\n",
        "\n",
        "print(dp[n] % 10007)"
      ],
      "metadata": {
        "colab": {
          "base_uri": "https://localhost:8080/"
        },
        "id": "9LhZXDTiHZ7W",
        "outputId": "e8f5c946-aabe-4af8-def4-e8d2b79603ab"
      },
      "execution_count": 6,
      "outputs": [
        {
          "output_type": "stream",
          "name": "stdout",
          "text": [
            "12\n",
            "2731\n"
          ]
        }
      ]
    },
    {
      "cell_type": "markdown",
      "source": [
        "BOJ 17626"
      ],
      "metadata": {
        "id": "BPDWA4xzIMmV"
      }
    },
    {
      "cell_type": "code",
      "source": [
        "import math\n",
        "\n",
        "n = int(input())\n",
        "dp = [0]*(n+1)\n",
        "dp[1] = 1\n",
        "\n",
        "if n == int(math.sqrt(n))**2:\n",
        "    print(1)\n",
        "else:\n",
        "    for i in range(2, n+1):\n",
        "        if i == int(math.sqrt(i))**2:\n",
        "            dp[i] =1\n",
        "        else:\n",
        "            minval = []\n",
        "            for j in range(1, math.floor(math.sqrt(i)) + 1):\n",
        "                minval.append(dp[i-(j**2)]+1)\n",
        "            dp[i] = min(minval)\n",
        "\n",
        "    print(dp[n])"
      ],
      "metadata": {
        "colab": {
          "base_uri": "https://localhost:8080/"
        },
        "id": "eOVS9sL9IN9u",
        "outputId": "9f26ad8f-06fe-4118-f014-ace1da8b0983"
      },
      "execution_count": 11,
      "outputs": [
        {
          "output_type": "stream",
          "name": "stdout",
          "text": [
            "26\n",
            "2\n"
          ]
        }
      ]
    },
    {
      "cell_type": "markdown",
      "source": [
        "BOJ 1260"
      ],
      "metadata": {
        "id": "nqLaEsbHMYOh"
      }
    },
    {
      "cell_type": "code",
      "source": [
        "from collections import deque\n",
        "\n",
        "def bfs(v):\n",
        "    q = deque()\n",
        "    q.append(v)\n",
        "    visit_list[v] = 1\n",
        "    while q:\n",
        "        v = q.popleft()\n",
        "        print(v, end=\" \")\n",
        "        for i in range(1, n+1):\n",
        "            if visit_list[i] == 0 and graph[v][i] == 1:\n",
        "                q.append(i)\n",
        "                visit_list[i] = 1\n",
        "\n",
        "def dfs(v):\n",
        "    visit_list2[v] = 1\n",
        "    print(v, end=\" \")\n",
        "    for i in range(1, n+1):\n",
        "        if visit_list2[i] == 0 and graph[v][i] == 1:\n",
        "            dfs(i)\n",
        "\n",
        "n, m, v = map(int, input().split())\n",
        "\n",
        "graph = [[0] * (n+1) for _ in range(n+1)]\n",
        "visit_list = [0]*(n+1)\n",
        "visit_list2 = [0]*(n+1)\n",
        "\n",
        "for _ in range(m):\n",
        "    a, b = map(int, input().split())\n",
        "    graph[a][b] = graph[b][a] = 1\n",
        "\n",
        "dfs(v)\n",
        "print()\n",
        "bfs(v)"
      ],
      "metadata": {
        "colab": {
          "base_uri": "https://localhost:8080/"
        },
        "id": "nVMMh5xJMZds",
        "outputId": "18a7fd80-bb43-470e-ea5a-2aef6b4224f4"
      },
      "execution_count": 12,
      "outputs": [
        {
          "output_type": "stream",
          "name": "stdout",
          "text": [
            "5 5 3\n",
            "5 4\n",
            "5 2\n",
            "1 2\n",
            "3 4\n",
            "3 1\n",
            "3 1 2 5 4 \n",
            "3 1 4 2 5 "
          ]
        }
      ]
    },
    {
      "cell_type": "markdown",
      "source": [
        "BOJ 1541"
      ],
      "metadata": {
        "id": "JoRKiAClWxyp"
      }
    },
    {
      "cell_type": "code",
      "source": [
        "cal = input().split('-')\n",
        "\n",
        "s = 0\n",
        "for i in cal[0].split('+'):\n",
        "    s += int(i)\n",
        "for i in cal[1:]:\n",
        "    for j in i.split('+'):\n",
        "        s -= int(j)\n",
        "print(s)"
      ],
      "metadata": {
        "colab": {
          "base_uri": "https://localhost:8080/"
        },
        "id": "oTrn17wYWy-J",
        "outputId": "473d81d1-3dc0-46a2-e020-ccd66140432c"
      },
      "execution_count": 14,
      "outputs": [
        {
          "output_type": "stream",
          "name": "stdout",
          "text": [
            "55-50+40\n",
            "-35\n"
          ]
        }
      ]
    },
    {
      "cell_type": "markdown",
      "source": [
        "BOJ 1780"
      ],
      "metadata": {
        "id": "DLpcHBzRYI35"
      }
    },
    {
      "cell_type": "code",
      "source": [
        "N = int(input())\n",
        "paper = [list(map(int, input().split())) for _ in range(N)]\n",
        "\n",
        "plus = 0\n",
        "zero = 0\n",
        "minus = 0\n",
        "\n",
        "def clip(x, y, n):\n",
        "    global plus, zero, minus\n",
        "    check_num = paper[x][y]\n",
        "\n",
        "    for i in range(x, x+n):\n",
        "        for j in range(y, y+n):\n",
        "            if(paper[i][j] != check_num):\n",
        "                for k in range(3):\n",
        "                    for l in range(3):\n",
        "                        clip(x+k*n//3, y+l*n//3, n//3)\n",
        "                return\n",
        "    if(check_num == -1):\n",
        "        minus +=1\n",
        "    elif(check_num == 0):\n",
        "        zero +=1\n",
        "    elif(check_num == 1):\n",
        "        plus +=1\n",
        "\n",
        "clip(0,0,N)\n",
        "print(f'{minus}\\n{zero}\\n{plus}')"
      ],
      "metadata": {
        "colab": {
          "base_uri": "https://localhost:8080/"
        },
        "id": "hP-zUtzpYKwz",
        "outputId": "343d3e21-59e1-4ec9-f139-f9e9a198f353"
      },
      "execution_count": 16,
      "outputs": [
        {
          "output_type": "stream",
          "name": "stdout",
          "text": [
            "9\n",
            "0 0 0 1 1 1 -1 -1 -1\n",
            "0 0 0 1 1 1 -1 -1 -1\n",
            "0 0 0 1 1 1 -1 -1 -1\n",
            "1 1 1 0 0 0 0 0 0\n",
            "1 1 1 0 0 0 0 0 0\n",
            "1 1 1 0 0 0 0 0 0\n",
            "0 1 -1 0 1 -1 0 1 -1\n",
            "0 -1 1 0 1 -1 0 1 -1\n",
            "0 1 -1 1 0 -1 0 1 -1\n",
            "10\n",
            "12\n",
            "11\n"
          ]
        }
      ]
    },
    {
      "cell_type": "markdown",
      "source": [
        "BOJ 1927"
      ],
      "metadata": {
        "id": "3A5CnGuodzQj"
      }
    },
    {
      "cell_type": "code",
      "source": [
        "import heapq\n",
        "\n",
        "N = int(input())\n",
        "heap = []\n",
        "\n",
        "for _ in range(N):\n",
        "    x = int(input())\n",
        "    if x == 0:\n",
        "        if not heap:\n",
        "            print(0)\n",
        "        else :\n",
        "            print(heapq.heappop(heap))\n",
        "    else:\n",
        "        heapq.heappush(heap, x)"
      ],
      "metadata": {
        "colab": {
          "base_uri": "https://localhost:8080/"
        },
        "id": "oyNOnwlJd11U",
        "outputId": "037dc9ee-48bc-4e39-af5f-3d319303048a"
      },
      "execution_count": 17,
      "outputs": [
        {
          "name": "stdout",
          "output_type": "stream",
          "text": [
            "9\n",
            "0\n",
            "0\n",
            "12345678\n",
            "1\n",
            "2\n",
            "0\n",
            "1\n",
            "0\n",
            "2\n",
            "0\n",
            "12345678\n",
            "0\n",
            "0\n",
            "32\n"
          ]
        }
      ]
    },
    {
      "cell_type": "markdown",
      "source": [
        "BOJ 2630"
      ],
      "metadata": {
        "id": "qCTlwojmfacB"
      }
    },
    {
      "cell_type": "code",
      "source": [
        "N = int(input())\n",
        "paper = [list(map(int, input().split())) for _ in range(N)]\n",
        "\n",
        "result = []\n",
        "\n",
        "def clip(x, y, n):\n",
        "    color = paper[x][y]\n",
        "    for i in range(x, x+n):\n",
        "        for j in range(y, y+n):\n",
        "            if color != paper[i][j]:\n",
        "                clip(x, y, n//2)\n",
        "                clip(x, y+n//2, n//2)\n",
        "                clip(x+n//2, y, n//2)\n",
        "                clip(x+n//2, y+n//2, n//2)\n",
        "                return\n",
        "    if color == 0:\n",
        "        result.append(0)\n",
        "    else:\n",
        "        result.append(1)\n",
        "\n",
        "clip(0,0,N)\n",
        "print(result.count(0))\n",
        "print(result.count(1))"
      ],
      "metadata": {
        "colab": {
          "base_uri": "https://localhost:8080/"
        },
        "id": "FD8Z-dQQfb58",
        "outputId": "226f8e76-2b95-45a5-cfb3-f4b9ae8faf87"
      },
      "execution_count": 20,
      "outputs": [
        {
          "output_type": "stream",
          "name": "stdout",
          "text": [
            "8\n",
            "1 1 0 0 0 0 1 1\n",
            "1 1 0 0 0 0 1 1\n",
            "0 0 0 0 1 1 0 0\n",
            "0 0 0 0 1 1 0 0\n",
            "1 0 0 0 1 1 1 1\n",
            "0 1 0 0 1 1 1 1\n",
            "0 0 1 1 1 1 1 1\n",
            "0 0 1 1 1 1 1 1\n",
            "9\n",
            "7\n"
          ]
        }
      ]
    },
    {
      "cell_type": "markdown",
      "source": [
        "BOJ 11279"
      ],
      "metadata": {
        "id": "mEZA_DCgi6v6"
      }
    },
    {
      "cell_type": "code",
      "source": [
        "import heapq\n",
        "\n",
        "N = int(input())\n",
        "heap = []\n",
        "\n",
        "for _ in range(N):\n",
        "    x = int(input())\n",
        "    if x == 0:\n",
        "        if heap:\n",
        "            print(heapq.heappop(heap)[1])\n",
        "        else:\n",
        "            print(0)\n",
        "    else:\n",
        "        heapq.heappush(heap, (-x, x))"
      ],
      "metadata": {
        "colab": {
          "base_uri": "https://localhost:8080/"
        },
        "id": "HIiLrAJji8mq",
        "outputId": "9bf75eff-1877-4e0a-94e7-dc6455959d20"
      },
      "execution_count": 27,
      "outputs": [
        {
          "output_type": "stream",
          "name": "stdout",
          "text": [
            "13\n",
            "0\n",
            "0\n",
            "[]\n",
            "1\n",
            "[(-1, 1)]\n",
            "2\n",
            "[(-2, 2), (-1, 1)]\n",
            "0\n",
            "2\n",
            "[(-1, 1)]\n",
            "0\n",
            "1\n",
            "[]\n",
            "3\n",
            "[(-3, 3)]\n",
            "2\n",
            "[(-3, 3), (-2, 2)]\n",
            "1\n",
            "[(-3, 3), (-2, 2), (-1, 1)]\n",
            "0\n",
            "3\n",
            "[(-2, 2), (-1, 1)]\n",
            "0\n",
            "2\n",
            "[(-1, 1)]\n",
            "0\n",
            "1\n",
            "[]\n",
            "0\n",
            "0\n",
            "[]\n",
            "0\n",
            "0\n",
            "[]\n"
          ]
        }
      ]
    }
  ]
}